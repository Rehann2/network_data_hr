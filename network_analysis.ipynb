{
 "cells": [
  {
   "cell_type": "markdown",
   "metadata": {},
   "source": [
    "none of the dir or mngr of admin are connected to other departments\n",
    "sales -> manager 1, 2 and 3 are connected to the ceos but also the directors"
   ]
  },
  {
   "cell_type": "code",
   "execution_count": 1,
   "metadata": {},
   "outputs": [],
   "source": [
    "import pandas as pd\n",
    "import networkx as nx\n",
    "from pyvis.network import Network\n",
    "from IPython.display import HTML"
   ]
  },
  {
   "cell_type": "code",
   "execution_count": 2,
   "metadata": {},
   "outputs": [
    {
     "data": {
      "text/html": [
       "<div>\n",
       "<style scoped>\n",
       "    .dataframe tbody tr th:only-of-type {\n",
       "        vertical-align: middle;\n",
       "    }\n",
       "\n",
       "    .dataframe tbody tr th {\n",
       "        vertical-align: top;\n",
       "    }\n",
       "\n",
       "    .dataframe thead th {\n",
       "        text-align: right;\n",
       "    }\n",
       "</style>\n",
       "<table border=\"1\" class=\"dataframe\">\n",
       "  <thead>\n",
       "    <tr style=\"text-align: right;\">\n",
       "      <th></th>\n",
       "      <th>Person 1</th>\n",
       "      <th>Person 2</th>\n",
       "    </tr>\n",
       "  </thead>\n",
       "  <tbody>\n",
       "    <tr>\n",
       "      <th>1</th>\n",
       "      <td>Admin.mgr1</td>\n",
       "      <td>Admin.2</td>\n",
       "    </tr>\n",
       "    <tr>\n",
       "      <th>2</th>\n",
       "      <td>Sales.mgr3</td>\n",
       "      <td>Sales.8</td>\n",
       "    </tr>\n",
       "    <tr>\n",
       "      <th>3</th>\n",
       "      <td>Production.2</td>\n",
       "      <td>Production.3</td>\n",
       "    </tr>\n",
       "    <tr>\n",
       "      <th>4</th>\n",
       "      <td>Production.2</td>\n",
       "      <td>Production.7</td>\n",
       "    </tr>\n",
       "    <tr>\n",
       "      <th>5</th>\n",
       "      <td>Sales.1</td>\n",
       "      <td>Sales.2</td>\n",
       "    </tr>\n",
       "    <tr>\n",
       "      <th>...</th>\n",
       "      <td>...</td>\n",
       "      <td>...</td>\n",
       "    </tr>\n",
       "    <tr>\n",
       "      <th>136</th>\n",
       "      <td>Production.mgr1</td>\n",
       "      <td>Production.2</td>\n",
       "    </tr>\n",
       "    <tr>\n",
       "      <th>137</th>\n",
       "      <td>Sales.Dir</td>\n",
       "      <td>Sales.6</td>\n",
       "    </tr>\n",
       "    <tr>\n",
       "      <th>138</th>\n",
       "      <td>Admin.4</td>\n",
       "      <td>Production.11</td>\n",
       "    </tr>\n",
       "    <tr>\n",
       "      <th>139</th>\n",
       "      <td>Admin.mgr1</td>\n",
       "      <td>Admin.3</td>\n",
       "    </tr>\n",
       "    <tr>\n",
       "      <th>140</th>\n",
       "      <td>Sales.mgr1</td>\n",
       "      <td>Sales.1</td>\n",
       "    </tr>\n",
       "  </tbody>\n",
       "</table>\n",
       "<p>140 rows × 2 columns</p>\n",
       "</div>"
      ],
      "text/plain": [
       "            Person 1       Person 2\n",
       "1         Admin.mgr1        Admin.2\n",
       "2         Sales.mgr3        Sales.8\n",
       "3       Production.2   Production.3\n",
       "4       Production.2   Production.7\n",
       "5            Sales.1        Sales.2\n",
       "..               ...            ...\n",
       "136  Production.mgr1   Production.2\n",
       "137        Sales.Dir        Sales.6\n",
       "138          Admin.4  Production.11\n",
       "139       Admin.mgr1        Admin.3\n",
       "140       Sales.mgr1        Sales.1\n",
       "\n",
       "[140 rows x 2 columns]"
      ]
     },
     "execution_count": 2,
     "metadata": {},
     "output_type": "execute_result"
    }
   ],
   "source": [
    "data = pd.read_csv(\"data/edgelist.csv\", index_col=0, encoding = \"utf-8\")\n",
    "data"
   ]
  },
  {
   "cell_type": "code",
   "execution_count": 3,
   "metadata": {},
   "outputs": [
    {
     "data": {
      "text/html": [
       "<div>\n",
       "<style scoped>\n",
       "    .dataframe tbody tr th:only-of-type {\n",
       "        vertical-align: middle;\n",
       "    }\n",
       "\n",
       "    .dataframe tbody tr th {\n",
       "        vertical-align: top;\n",
       "    }\n",
       "\n",
       "    .dataframe thead th {\n",
       "        text-align: right;\n",
       "    }\n",
       "</style>\n",
       "<table border=\"1\" class=\"dataframe\">\n",
       "  <thead>\n",
       "    <tr style=\"text-align: right;\">\n",
       "      <th></th>\n",
       "      <th>Person 1</th>\n",
       "      <th>Person 2</th>\n",
       "      <th>weight person 1</th>\n",
       "      <th>weight person 2</th>\n",
       "      <th>weight</th>\n",
       "    </tr>\n",
       "  </thead>\n",
       "  <tbody>\n",
       "    <tr>\n",
       "      <th>1</th>\n",
       "      <td>Admin.mgr1</td>\n",
       "      <td>Admin.2</td>\n",
       "      <td>1.2</td>\n",
       "      <td>1.0</td>\n",
       "      <td>1.2</td>\n",
       "    </tr>\n",
       "    <tr>\n",
       "      <th>2</th>\n",
       "      <td>Sales.mgr3</td>\n",
       "      <td>Sales.8</td>\n",
       "      <td>1.2</td>\n",
       "      <td>1.0</td>\n",
       "      <td>1.2</td>\n",
       "    </tr>\n",
       "    <tr>\n",
       "      <th>3</th>\n",
       "      <td>Production.2</td>\n",
       "      <td>Production.3</td>\n",
       "      <td>1.0</td>\n",
       "      <td>1.0</td>\n",
       "      <td>1.0</td>\n",
       "    </tr>\n",
       "    <tr>\n",
       "      <th>4</th>\n",
       "      <td>Production.2</td>\n",
       "      <td>Production.7</td>\n",
       "      <td>1.0</td>\n",
       "      <td>1.0</td>\n",
       "      <td>1.0</td>\n",
       "    </tr>\n",
       "    <tr>\n",
       "      <th>5</th>\n",
       "      <td>Sales.1</td>\n",
       "      <td>Sales.2</td>\n",
       "      <td>1.0</td>\n",
       "      <td>1.0</td>\n",
       "      <td>1.0</td>\n",
       "    </tr>\n",
       "    <tr>\n",
       "      <th>...</th>\n",
       "      <td>...</td>\n",
       "      <td>...</td>\n",
       "      <td>...</td>\n",
       "      <td>...</td>\n",
       "      <td>...</td>\n",
       "    </tr>\n",
       "    <tr>\n",
       "      <th>136</th>\n",
       "      <td>Production.mgr1</td>\n",
       "      <td>Production.2</td>\n",
       "      <td>1.2</td>\n",
       "      <td>1.0</td>\n",
       "      <td>1.2</td>\n",
       "    </tr>\n",
       "    <tr>\n",
       "      <th>137</th>\n",
       "      <td>Sales.Dir</td>\n",
       "      <td>Sales.6</td>\n",
       "      <td>1.8</td>\n",
       "      <td>1.0</td>\n",
       "      <td>1.8</td>\n",
       "    </tr>\n",
       "    <tr>\n",
       "      <th>138</th>\n",
       "      <td>Admin.4</td>\n",
       "      <td>Production.11</td>\n",
       "      <td>1.0</td>\n",
       "      <td>1.0</td>\n",
       "      <td>1.0</td>\n",
       "    </tr>\n",
       "    <tr>\n",
       "      <th>139</th>\n",
       "      <td>Admin.mgr1</td>\n",
       "      <td>Admin.3</td>\n",
       "      <td>1.2</td>\n",
       "      <td>1.0</td>\n",
       "      <td>1.2</td>\n",
       "    </tr>\n",
       "    <tr>\n",
       "      <th>140</th>\n",
       "      <td>Sales.mgr1</td>\n",
       "      <td>Sales.1</td>\n",
       "      <td>1.2</td>\n",
       "      <td>1.0</td>\n",
       "      <td>1.2</td>\n",
       "    </tr>\n",
       "  </tbody>\n",
       "</table>\n",
       "<p>140 rows × 5 columns</p>\n",
       "</div>"
      ],
      "text/plain": [
       "            Person 1       Person 2  weight person 1  weight person 2  weight\n",
       "1         Admin.mgr1        Admin.2              1.2              1.0     1.2\n",
       "2         Sales.mgr3        Sales.8              1.2              1.0     1.2\n",
       "3       Production.2   Production.3              1.0              1.0     1.0\n",
       "4       Production.2   Production.7              1.0              1.0     1.0\n",
       "5            Sales.1        Sales.2              1.0              1.0     1.0\n",
       "..               ...            ...              ...              ...     ...\n",
       "136  Production.mgr1   Production.2              1.2              1.0     1.2\n",
       "137        Sales.Dir        Sales.6              1.8              1.0     1.8\n",
       "138          Admin.4  Production.11              1.0              1.0     1.0\n",
       "139       Admin.mgr1        Admin.3              1.2              1.0     1.2\n",
       "140       Sales.mgr1        Sales.1              1.2              1.0     1.2\n",
       "\n",
       "[140 rows x 5 columns]"
      ]
     },
     "execution_count": 3,
     "metadata": {},
     "output_type": "execute_result"
    }
   ],
   "source": [
    "data[\"weight person 1\"] = 1\n",
    "data[\"weight person 1\"] = data.apply(lambda x: 1.2 if x[\"Person 1\"].split(\".\")[-1][0] == \"m\" \n",
    "                                     else (1.8 if x[\"Person 1\"].split(\".\")[-1][0] == \"D\" else 1) , axis = 1)\n",
    "data[\"weight person 2\"] = 1\n",
    "data[\"weight person 2\"] = data.apply(lambda x: 1.2 if x[\"Person 2\"].split(\".\")[-1][0] == \"m\" \n",
    "                                     else (1.8 if x[\"Person 2\"].split(\".\")[-1][0] == \"D\" else 1) , axis = 1)\n",
    "data[\"weight person 1\"] = data[\"weight person 1\"].where(data[\"Person 1\"]!=\"CEO\", 3)\n",
    "data[\"weight person 2\"] = data[\"weight person 2\"].where(data[\"Person 2\"]!=\"CEO\", 3)\n",
    "data[\"weight\"] = data[\"weight person 1\"] * data[\"weight person 2\"]\n",
    "data"
   ]
  },
  {
   "cell_type": "code",
   "execution_count": 4,
   "metadata": {},
   "outputs": [],
   "source": [
    "G = nx.from_pandas_edgelist(data, source=\"Person 1\", target=\"Person 2\")"
   ]
  },
  {
   "cell_type": "code",
   "execution_count": 5,
   "metadata": {},
   "outputs": [
    {
     "name": "stderr",
     "output_type": "stream",
     "text": [
      "C:\\Users\\teuta\\AppData\\Local\\Temp\\ipykernel_16576\\207571619.py:5: FutureWarning: Calling float on a single element Series is deprecated and will raise a TypeError in the future. Use float(ser.iloc[0]) instead\n",
      "  weight = float(data[(data[\"Person 1\"]==u)&(data[\"Person 2\"]==v)][\"weight\"])\n",
      "C:\\Users\\teuta\\AppData\\Local\\Temp\\ipykernel_16576\\207571619.py:3: FutureWarning: Calling float on a single element Series is deprecated and will raise a TypeError in the future. Use float(ser.iloc[0]) instead\n",
      "  weight = float(data[(data[\"Person 2\"]==u)&(data[\"Person 1\"]==v)][\"weight\"])\n"
     ]
    }
   ],
   "source": [
    "for u, v in G.edges():\n",
    "    if data[(data[\"Person 1\"]==u)&(data[\"Person 2\"]==v)][\"weight\"].empty:\n",
    "        weight = float(data[(data[\"Person 2\"]==u)&(data[\"Person 1\"]==v)][\"weight\"])\n",
    "    else:\n",
    "        weight = float(data[(data[\"Person 1\"]==u)&(data[\"Person 2\"]==v)][\"weight\"])\n",
    "    G[u][v][\"weight\"] = weight"
   ]
  },
  {
   "cell_type": "code",
   "execution_count": 6,
   "metadata": {},
   "outputs": [
    {
     "data": {
      "text/plain": [
       "[('CEO', 0.5388181797222633),\n",
       " ('Sales.Dir', 0.4185926720900137),\n",
       " ('Sales.mgr1', 0.2878301332612606),\n",
       " ('Sales.mgr3', 0.277166343942355),\n",
       " ('Sales.mgr2', 0.2699315805152943),\n",
       " ('Production.Dir', 0.22219880194355096),\n",
       " ('Admin.Dir', 0.2142576383521509),\n",
       " ('Production.mgr1', 0.1675111260532105),\n",
       " ('Admin.mgr1', 0.1534043096822214),\n",
       " ('Sales.8', 0.14920029727822626),\n",
       " ('Sales.1', 0.12677065996808334),\n",
       " ('Sales.6', 0.12406700102858895),\n",
       " ('Sales.9', 0.12334826309704736),\n",
       " ('Sales.3', 0.11743966642231275),\n",
       " ('Sales.4', 0.11665421954289949),\n",
       " ('Sales.10', 0.11051303622433599),\n",
       " ('Sales.5', 0.10355290294478606),\n",
       " ('Sales.2', 0.10232982791724853),\n",
       " ('Sales.7', 0.09645630369838955),\n",
       " ('Production.mgr2', 0.051085000156848165),\n",
       " ('Production.mgr3', 0.051012364597909206),\n",
       " ('Admin.2', 0.03760885798591363),\n",
       " ('Production.11', 0.03432856584457812),\n",
       " ('Production.mgr4', 0.03422291033186421),\n",
       " ('Admin.mgr2', 0.03218043856978444),\n",
       " ('Production.1', 0.030061414271645347),\n",
       " ('Admin.mgr3', 0.028916805879274247),\n",
       " ('Admin.6', 0.027776513607626476),\n",
       " ('Admin.1', 0.027378336274551718),\n",
       " ('Production.7', 0.020641303471679234),\n",
       " ('Production.10', 0.018655135385093388),\n",
       " ('Production.14', 0.01810612849371044),\n",
       " ('Production.2', 0.017477284348304627),\n",
       " ('Production.3', 0.016731569248105548),\n",
       " ('Production.4', 0.01628354456834375),\n",
       " ('Admin.4', 0.015706098799887748),\n",
       " ('Admin.3', 0.015582481228140321),\n",
       " ('Admin.5', 0.007746908607965751),\n",
       " ('Production.9', 0.006338805098081478),\n",
       " ('Production.12', 0.006114603400747632),\n",
       " ('Production.13', 0.006114603400747632),\n",
       " ('Production.5', 0.00535880129167644),\n",
       " ('Production.6', 0.00535880129167644),\n",
       " ('Production.8', 0.005291690447758474),\n",
       " ('Admin.8', 0.004791384290139701),\n",
       " ('Admin.7', 0.0021299417401925)]"
      ]
     },
     "execution_count": 6,
     "metadata": {},
     "output_type": "execute_result"
    }
   ],
   "source": [
    "centrality = nx.eigenvector_centrality(G, weight='weight')\n",
    "centrality\n",
    "centrality_sorted = sorted(centrality.items(), key=lambda x: x[1], reverse=True)\n",
    "centrality_sorted"
   ]
  },
  {
   "cell_type": "code",
   "execution_count": 7,
   "metadata": {},
   "outputs": [],
   "source": [
    "betweenness = nx.betweenness_centrality(G)\n",
    "betweenness = sorted(betweenness.items(), key=lambda x: x[1], reverse=True)"
   ]
  },
  {
   "cell_type": "code",
   "execution_count": 8,
   "metadata": {},
   "outputs": [
    {
     "data": {
      "text/html": [
       "<div>\n",
       "<style scoped>\n",
       "    .dataframe tbody tr th:only-of-type {\n",
       "        vertical-align: middle;\n",
       "    }\n",
       "\n",
       "    .dataframe tbody tr th {\n",
       "        vertical-align: top;\n",
       "    }\n",
       "\n",
       "    .dataframe thead th {\n",
       "        text-align: right;\n",
       "    }\n",
       "</style>\n",
       "<table border=\"1\" class=\"dataframe\">\n",
       "  <thead>\n",
       "    <tr style=\"text-align: right;\">\n",
       "      <th></th>\n",
       "      <th>Employee</th>\n",
       "      <th>centrality_rank</th>\n",
       "    </tr>\n",
       "  </thead>\n",
       "  <tbody>\n",
       "    <tr>\n",
       "      <th>0</th>\n",
       "      <td>CEO</td>\n",
       "      <td>1.000000</td>\n",
       "    </tr>\n",
       "    <tr>\n",
       "      <th>1</th>\n",
       "      <td>Sales.Dir</td>\n",
       "      <td>0.775986</td>\n",
       "    </tr>\n",
       "    <tr>\n",
       "      <th>2</th>\n",
       "      <td>Sales.mgr1</td>\n",
       "      <td>0.532339</td>\n",
       "    </tr>\n",
       "    <tr>\n",
       "      <th>3</th>\n",
       "      <td>Sales.mgr3</td>\n",
       "      <td>0.512470</td>\n",
       "    </tr>\n",
       "    <tr>\n",
       "      <th>4</th>\n",
       "      <td>Sales.mgr2</td>\n",
       "      <td>0.498989</td>\n",
       "    </tr>\n",
       "    <tr>\n",
       "      <th>5</th>\n",
       "      <td>Production.Dir</td>\n",
       "      <td>0.410050</td>\n",
       "    </tr>\n",
       "    <tr>\n",
       "      <th>6</th>\n",
       "      <td>Admin.Dir</td>\n",
       "      <td>0.395253</td>\n",
       "    </tr>\n",
       "    <tr>\n",
       "      <th>7</th>\n",
       "      <td>Production.mgr1</td>\n",
       "      <td>0.308151</td>\n",
       "    </tr>\n",
       "    <tr>\n",
       "      <th>8</th>\n",
       "      <td>Admin.mgr1</td>\n",
       "      <td>0.281866</td>\n",
       "    </tr>\n",
       "    <tr>\n",
       "      <th>9</th>\n",
       "      <td>Sales.8</td>\n",
       "      <td>0.274033</td>\n",
       "    </tr>\n",
       "    <tr>\n",
       "      <th>10</th>\n",
       "      <td>Sales.1</td>\n",
       "      <td>0.232240</td>\n",
       "    </tr>\n",
       "    <tr>\n",
       "      <th>11</th>\n",
       "      <td>Sales.6</td>\n",
       "      <td>0.227203</td>\n",
       "    </tr>\n",
       "    <tr>\n",
       "      <th>12</th>\n",
       "      <td>Sales.9</td>\n",
       "      <td>0.225864</td>\n",
       "    </tr>\n",
       "    <tr>\n",
       "      <th>13</th>\n",
       "      <td>Sales.3</td>\n",
       "      <td>0.214854</td>\n",
       "    </tr>\n",
       "    <tr>\n",
       "      <th>14</th>\n",
       "      <td>Sales.4</td>\n",
       "      <td>0.213391</td>\n",
       "    </tr>\n",
       "    <tr>\n",
       "      <th>15</th>\n",
       "      <td>Sales.10</td>\n",
       "      <td>0.201948</td>\n",
       "    </tr>\n",
       "    <tr>\n",
       "      <th>16</th>\n",
       "      <td>Sales.5</td>\n",
       "      <td>0.188979</td>\n",
       "    </tr>\n",
       "    <tr>\n",
       "      <th>17</th>\n",
       "      <td>Sales.2</td>\n",
       "      <td>0.186700</td>\n",
       "    </tr>\n",
       "    <tr>\n",
       "      <th>18</th>\n",
       "      <td>Sales.7</td>\n",
       "      <td>0.175756</td>\n",
       "    </tr>\n",
       "    <tr>\n",
       "      <th>19</th>\n",
       "      <td>Production.mgr2</td>\n",
       "      <td>0.091217</td>\n",
       "    </tr>\n",
       "    <tr>\n",
       "      <th>20</th>\n",
       "      <td>Production.mgr3</td>\n",
       "      <td>0.091082</td>\n",
       "    </tr>\n",
       "    <tr>\n",
       "      <th>21</th>\n",
       "      <td>Admin.2</td>\n",
       "      <td>0.066107</td>\n",
       "    </tr>\n",
       "    <tr>\n",
       "      <th>22</th>\n",
       "      <td>Production.11</td>\n",
       "      <td>0.059995</td>\n",
       "    </tr>\n",
       "    <tr>\n",
       "      <th>23</th>\n",
       "      <td>Production.mgr4</td>\n",
       "      <td>0.059798</td>\n",
       "    </tr>\n",
       "    <tr>\n",
       "      <th>24</th>\n",
       "      <td>Admin.mgr2</td>\n",
       "      <td>0.055992</td>\n",
       "    </tr>\n",
       "    <tr>\n",
       "      <th>25</th>\n",
       "      <td>Production.1</td>\n",
       "      <td>0.052044</td>\n",
       "    </tr>\n",
       "    <tr>\n",
       "      <th>26</th>\n",
       "      <td>Admin.mgr3</td>\n",
       "      <td>0.049911</td>\n",
       "    </tr>\n",
       "    <tr>\n",
       "      <th>27</th>\n",
       "      <td>Admin.6</td>\n",
       "      <td>0.047787</td>\n",
       "    </tr>\n",
       "    <tr>\n",
       "      <th>28</th>\n",
       "      <td>Admin.1</td>\n",
       "      <td>0.047045</td>\n",
       "    </tr>\n",
       "    <tr>\n",
       "      <th>29</th>\n",
       "      <td>Production.7</td>\n",
       "      <td>0.034492</td>\n",
       "    </tr>\n",
       "    <tr>\n",
       "      <th>30</th>\n",
       "      <td>Production.10</td>\n",
       "      <td>0.030791</td>\n",
       "    </tr>\n",
       "    <tr>\n",
       "      <th>31</th>\n",
       "      <td>Production.14</td>\n",
       "      <td>0.029768</td>\n",
       "    </tr>\n",
       "    <tr>\n",
       "      <th>32</th>\n",
       "      <td>Production.2</td>\n",
       "      <td>0.028596</td>\n",
       "    </tr>\n",
       "    <tr>\n",
       "      <th>33</th>\n",
       "      <td>Production.3</td>\n",
       "      <td>0.027207</td>\n",
       "    </tr>\n",
       "    <tr>\n",
       "      <th>34</th>\n",
       "      <td>Production.4</td>\n",
       "      <td>0.026372</td>\n",
       "    </tr>\n",
       "    <tr>\n",
       "      <th>35</th>\n",
       "      <td>Admin.4</td>\n",
       "      <td>0.025296</td>\n",
       "    </tr>\n",
       "    <tr>\n",
       "      <th>36</th>\n",
       "      <td>Admin.3</td>\n",
       "      <td>0.025066</td>\n",
       "    </tr>\n",
       "    <tr>\n",
       "      <th>37</th>\n",
       "      <td>Admin.5</td>\n",
       "      <td>0.010466</td>\n",
       "    </tr>\n",
       "    <tr>\n",
       "      <th>38</th>\n",
       "      <td>Production.9</td>\n",
       "      <td>0.007842</td>\n",
       "    </tr>\n",
       "    <tr>\n",
       "      <th>39</th>\n",
       "      <td>Production.12</td>\n",
       "      <td>0.007425</td>\n",
       "    </tr>\n",
       "    <tr>\n",
       "      <th>40</th>\n",
       "      <td>Production.13</td>\n",
       "      <td>0.007425</td>\n",
       "    </tr>\n",
       "    <tr>\n",
       "      <th>41</th>\n",
       "      <td>Production.5</td>\n",
       "      <td>0.006016</td>\n",
       "    </tr>\n",
       "    <tr>\n",
       "      <th>42</th>\n",
       "      <td>Production.6</td>\n",
       "      <td>0.006016</td>\n",
       "    </tr>\n",
       "    <tr>\n",
       "      <th>43</th>\n",
       "      <td>Production.8</td>\n",
       "      <td>0.005891</td>\n",
       "    </tr>\n",
       "    <tr>\n",
       "      <th>44</th>\n",
       "      <td>Admin.8</td>\n",
       "      <td>0.004959</td>\n",
       "    </tr>\n",
       "    <tr>\n",
       "      <th>45</th>\n",
       "      <td>Admin.7</td>\n",
       "      <td>0.000000</td>\n",
       "    </tr>\n",
       "  </tbody>\n",
       "</table>\n",
       "</div>"
      ],
      "text/plain": [
       "           Employee  centrality_rank\n",
       "0               CEO         1.000000\n",
       "1         Sales.Dir         0.775986\n",
       "2        Sales.mgr1         0.532339\n",
       "3        Sales.mgr3         0.512470\n",
       "4        Sales.mgr2         0.498989\n",
       "5    Production.Dir         0.410050\n",
       "6         Admin.Dir         0.395253\n",
       "7   Production.mgr1         0.308151\n",
       "8        Admin.mgr1         0.281866\n",
       "9           Sales.8         0.274033\n",
       "10          Sales.1         0.232240\n",
       "11          Sales.6         0.227203\n",
       "12          Sales.9         0.225864\n",
       "13          Sales.3         0.214854\n",
       "14          Sales.4         0.213391\n",
       "15         Sales.10         0.201948\n",
       "16          Sales.5         0.188979\n",
       "17          Sales.2         0.186700\n",
       "18          Sales.7         0.175756\n",
       "19  Production.mgr2         0.091217\n",
       "20  Production.mgr3         0.091082\n",
       "21          Admin.2         0.066107\n",
       "22    Production.11         0.059995\n",
       "23  Production.mgr4         0.059798\n",
       "24       Admin.mgr2         0.055992\n",
       "25     Production.1         0.052044\n",
       "26       Admin.mgr3         0.049911\n",
       "27          Admin.6         0.047787\n",
       "28          Admin.1         0.047045\n",
       "29     Production.7         0.034492\n",
       "30    Production.10         0.030791\n",
       "31    Production.14         0.029768\n",
       "32     Production.2         0.028596\n",
       "33     Production.3         0.027207\n",
       "34     Production.4         0.026372\n",
       "35          Admin.4         0.025296\n",
       "36          Admin.3         0.025066\n",
       "37          Admin.5         0.010466\n",
       "38     Production.9         0.007842\n",
       "39    Production.12         0.007425\n",
       "40    Production.13         0.007425\n",
       "41     Production.5         0.006016\n",
       "42     Production.6         0.006016\n",
       "43     Production.8         0.005891\n",
       "44          Admin.8         0.004959\n",
       "45          Admin.7         0.000000"
      ]
     },
     "execution_count": 8,
     "metadata": {},
     "output_type": "execute_result"
    }
   ],
   "source": [
    "from sklearn.preprocessing import MinMaxScaler\n",
    "centrality_df = pd.DataFrame(centrality_sorted, columns=[\"Employee\", \"rank\"])\n",
    "scaler = MinMaxScaler()\n",
    "centrality_df[\"centrality_rank\"] = scaler.fit_transform(centrality_df[\"rank\"].array.reshape(-1, 1))\n",
    "df = centrality_df.drop(\"rank\", axis=1)\n",
    "df"
   ]
  },
  {
   "cell_type": "code",
   "execution_count": 9,
   "metadata": {},
   "outputs": [
    {
     "data": {
      "text/html": [
       "<div>\n",
       "<style scoped>\n",
       "    .dataframe tbody tr th:only-of-type {\n",
       "        vertical-align: middle;\n",
       "    }\n",
       "\n",
       "    .dataframe tbody tr th {\n",
       "        vertical-align: top;\n",
       "    }\n",
       "\n",
       "    .dataframe thead th {\n",
       "        text-align: right;\n",
       "    }\n",
       "</style>\n",
       "<table border=\"1\" class=\"dataframe\">\n",
       "  <thead>\n",
       "    <tr style=\"text-align: right;\">\n",
       "      <th></th>\n",
       "      <th>Employee</th>\n",
       "      <th>betweennes</th>\n",
       "    </tr>\n",
       "  </thead>\n",
       "  <tbody>\n",
       "    <tr>\n",
       "      <th>0</th>\n",
       "      <td>CEO</td>\n",
       "      <td>1.000000</td>\n",
       "    </tr>\n",
       "    <tr>\n",
       "      <th>1</th>\n",
       "      <td>Production.mgr1</td>\n",
       "      <td>0.783388</td>\n",
       "    </tr>\n",
       "    <tr>\n",
       "      <th>2</th>\n",
       "      <td>Admin.4</td>\n",
       "      <td>0.449441</td>\n",
       "    </tr>\n",
       "    <tr>\n",
       "      <th>3</th>\n",
       "      <td>Admin.Dir</td>\n",
       "      <td>0.342256</td>\n",
       "    </tr>\n",
       "    <tr>\n",
       "      <th>4</th>\n",
       "      <td>Sales.1</td>\n",
       "      <td>0.335216</td>\n",
       "    </tr>\n",
       "    <tr>\n",
       "      <th>5</th>\n",
       "      <td>Production.11</td>\n",
       "      <td>0.319525</td>\n",
       "    </tr>\n",
       "    <tr>\n",
       "      <th>6</th>\n",
       "      <td>Sales.mgr1</td>\n",
       "      <td>0.290588</td>\n",
       "    </tr>\n",
       "    <tr>\n",
       "      <th>7</th>\n",
       "      <td>Sales.Dir</td>\n",
       "      <td>0.255296</td>\n",
       "    </tr>\n",
       "    <tr>\n",
       "      <th>8</th>\n",
       "      <td>Production.7</td>\n",
       "      <td>0.250194</td>\n",
       "    </tr>\n",
       "    <tr>\n",
       "      <th>9</th>\n",
       "      <td>Production.Dir</td>\n",
       "      <td>0.236851</td>\n",
       "    </tr>\n",
       "    <tr>\n",
       "      <th>10</th>\n",
       "      <td>Production.14</td>\n",
       "      <td>0.198009</td>\n",
       "    </tr>\n",
       "    <tr>\n",
       "      <th>11</th>\n",
       "      <td>Admin.1</td>\n",
       "      <td>0.180286</td>\n",
       "    </tr>\n",
       "    <tr>\n",
       "      <th>12</th>\n",
       "      <td>Admin.mgr3</td>\n",
       "      <td>0.146719</td>\n",
       "    </tr>\n",
       "    <tr>\n",
       "      <th>13</th>\n",
       "      <td>Sales.mgr3</td>\n",
       "      <td>0.137157</td>\n",
       "    </tr>\n",
       "    <tr>\n",
       "      <th>14</th>\n",
       "      <td>Admin.6</td>\n",
       "      <td>0.126293</td>\n",
       "    </tr>\n",
       "    <tr>\n",
       "      <th>15</th>\n",
       "      <td>Admin.mgr1</td>\n",
       "      <td>0.110189</td>\n",
       "    </tr>\n",
       "    <tr>\n",
       "      <th>16</th>\n",
       "      <td>Sales.mgr2</td>\n",
       "      <td>0.108255</td>\n",
       "    </tr>\n",
       "    <tr>\n",
       "      <th>17</th>\n",
       "      <td>Production.mgr2</td>\n",
       "      <td>0.106430</td>\n",
       "    </tr>\n",
       "    <tr>\n",
       "      <th>18</th>\n",
       "      <td>Production.mgr3</td>\n",
       "      <td>0.105442</td>\n",
       "    </tr>\n",
       "    <tr>\n",
       "      <th>19</th>\n",
       "      <td>Admin.5</td>\n",
       "      <td>0.086839</td>\n",
       "    </tr>\n",
       "    <tr>\n",
       "      <th>20</th>\n",
       "      <td>Production.10</td>\n",
       "      <td>0.067975</td>\n",
       "    </tr>\n",
       "    <tr>\n",
       "      <th>21</th>\n",
       "      <td>Production.3</td>\n",
       "      <td>0.050350</td>\n",
       "    </tr>\n",
       "    <tr>\n",
       "      <th>22</th>\n",
       "      <td>Production.1</td>\n",
       "      <td>0.041796</td>\n",
       "    </tr>\n",
       "    <tr>\n",
       "      <th>23</th>\n",
       "      <td>Admin.3</td>\n",
       "      <td>0.040408</td>\n",
       "    </tr>\n",
       "    <tr>\n",
       "      <th>24</th>\n",
       "      <td>Production.mgr4</td>\n",
       "      <td>0.038405</td>\n",
       "    </tr>\n",
       "    <tr>\n",
       "      <th>25</th>\n",
       "      <td>Production.9</td>\n",
       "      <td>0.035129</td>\n",
       "    </tr>\n",
       "    <tr>\n",
       "      <th>26</th>\n",
       "      <td>Admin.8</td>\n",
       "      <td>0.032414</td>\n",
       "    </tr>\n",
       "    <tr>\n",
       "      <th>27</th>\n",
       "      <td>Admin.mgr2</td>\n",
       "      <td>0.027737</td>\n",
       "    </tr>\n",
       "    <tr>\n",
       "      <th>28</th>\n",
       "      <td>Sales.2</td>\n",
       "      <td>0.019734</td>\n",
       "    </tr>\n",
       "    <tr>\n",
       "      <th>29</th>\n",
       "      <td>Sales.9</td>\n",
       "      <td>0.019665</td>\n",
       "    </tr>\n",
       "    <tr>\n",
       "      <th>30</th>\n",
       "      <td>Sales.8</td>\n",
       "      <td>0.017101</td>\n",
       "    </tr>\n",
       "    <tr>\n",
       "      <th>31</th>\n",
       "      <td>Sales.6</td>\n",
       "      <td>0.013724</td>\n",
       "    </tr>\n",
       "    <tr>\n",
       "      <th>32</th>\n",
       "      <td>Sales.3</td>\n",
       "      <td>0.011974</td>\n",
       "    </tr>\n",
       "    <tr>\n",
       "      <th>33</th>\n",
       "      <td>Sales.4</td>\n",
       "      <td>0.010367</td>\n",
       "    </tr>\n",
       "    <tr>\n",
       "      <th>34</th>\n",
       "      <td>Production.2</td>\n",
       "      <td>0.008481</td>\n",
       "    </tr>\n",
       "    <tr>\n",
       "      <th>35</th>\n",
       "      <td>Admin.2</td>\n",
       "      <td>0.005993</td>\n",
       "    </tr>\n",
       "    <tr>\n",
       "      <th>36</th>\n",
       "      <td>Sales.5</td>\n",
       "      <td>0.004378</td>\n",
       "    </tr>\n",
       "    <tr>\n",
       "      <th>37</th>\n",
       "      <td>Sales.7</td>\n",
       "      <td>0.003231</td>\n",
       "    </tr>\n",
       "    <tr>\n",
       "      <th>38</th>\n",
       "      <td>Sales.10</td>\n",
       "      <td>0.002867</td>\n",
       "    </tr>\n",
       "    <tr>\n",
       "      <th>39</th>\n",
       "      <td>Production.4</td>\n",
       "      <td>0.002097</td>\n",
       "    </tr>\n",
       "    <tr>\n",
       "      <th>40</th>\n",
       "      <td>Production.5</td>\n",
       "      <td>0.000000</td>\n",
       "    </tr>\n",
       "    <tr>\n",
       "      <th>41</th>\n",
       "      <td>Production.6</td>\n",
       "      <td>0.000000</td>\n",
       "    </tr>\n",
       "    <tr>\n",
       "      <th>42</th>\n",
       "      <td>Production.12</td>\n",
       "      <td>0.000000</td>\n",
       "    </tr>\n",
       "    <tr>\n",
       "      <th>43</th>\n",
       "      <td>Production.13</td>\n",
       "      <td>0.000000</td>\n",
       "    </tr>\n",
       "    <tr>\n",
       "      <th>44</th>\n",
       "      <td>Production.8</td>\n",
       "      <td>0.000000</td>\n",
       "    </tr>\n",
       "    <tr>\n",
       "      <th>45</th>\n",
       "      <td>Admin.7</td>\n",
       "      <td>0.000000</td>\n",
       "    </tr>\n",
       "  </tbody>\n",
       "</table>\n",
       "</div>"
      ],
      "text/plain": [
       "           Employee  betweennes\n",
       "0               CEO    1.000000\n",
       "1   Production.mgr1    0.783388\n",
       "2           Admin.4    0.449441\n",
       "3         Admin.Dir    0.342256\n",
       "4           Sales.1    0.335216\n",
       "5     Production.11    0.319525\n",
       "6        Sales.mgr1    0.290588\n",
       "7         Sales.Dir    0.255296\n",
       "8      Production.7    0.250194\n",
       "9    Production.Dir    0.236851\n",
       "10    Production.14    0.198009\n",
       "11          Admin.1    0.180286\n",
       "12       Admin.mgr3    0.146719\n",
       "13       Sales.mgr3    0.137157\n",
       "14          Admin.6    0.126293\n",
       "15       Admin.mgr1    0.110189\n",
       "16       Sales.mgr2    0.108255\n",
       "17  Production.mgr2    0.106430\n",
       "18  Production.mgr3    0.105442\n",
       "19          Admin.5    0.086839\n",
       "20    Production.10    0.067975\n",
       "21     Production.3    0.050350\n",
       "22     Production.1    0.041796\n",
       "23          Admin.3    0.040408\n",
       "24  Production.mgr4    0.038405\n",
       "25     Production.9    0.035129\n",
       "26          Admin.8    0.032414\n",
       "27       Admin.mgr2    0.027737\n",
       "28          Sales.2    0.019734\n",
       "29          Sales.9    0.019665\n",
       "30          Sales.8    0.017101\n",
       "31          Sales.6    0.013724\n",
       "32          Sales.3    0.011974\n",
       "33          Sales.4    0.010367\n",
       "34     Production.2    0.008481\n",
       "35          Admin.2    0.005993\n",
       "36          Sales.5    0.004378\n",
       "37          Sales.7    0.003231\n",
       "38         Sales.10    0.002867\n",
       "39     Production.4    0.002097\n",
       "40     Production.5    0.000000\n",
       "41     Production.6    0.000000\n",
       "42    Production.12    0.000000\n",
       "43    Production.13    0.000000\n",
       "44     Production.8    0.000000\n",
       "45          Admin.7    0.000000"
      ]
     },
     "execution_count": 9,
     "metadata": {},
     "output_type": "execute_result"
    }
   ],
   "source": [
    "from sklearn.preprocessing import MinMaxScaler\n",
    "betweenness_df = pd.DataFrame(betweenness, columns=[\"Employee\", \"betweennes\"])\n",
    "scaler = MinMaxScaler()\n",
    "#centrality_df[\"rank\"] = \n",
    "betweenness_df[\"betweennes\"] = scaler.fit_transform(betweenness_df[\"betweennes\"].array.reshape(-1, 1))\n",
    "betweenness_df"
   ]
  },
  {
   "cell_type": "code",
   "execution_count": 10,
   "metadata": {},
   "outputs": [],
   "source": [
    "df_tot = betweenness_df.merge(df, how=\"left\", on=\"Employee\")\n",
    "df_tot[\"rank\"] = (df_tot[\"betweennes\"] + df_tot[\"centrality_rank\"])/2\n",
    "df_tot.sort_values(\"rank\", ascending=False, inplace=True)"
   ]
  },
  {
   "cell_type": "code",
   "execution_count": 11,
   "metadata": {},
   "outputs": [
    {
     "data": {
      "text/html": [
       "<div>\n",
       "<style scoped>\n",
       "    .dataframe tbody tr th:only-of-type {\n",
       "        vertical-align: middle;\n",
       "    }\n",
       "\n",
       "    .dataframe tbody tr th {\n",
       "        vertical-align: top;\n",
       "    }\n",
       "\n",
       "    .dataframe thead th {\n",
       "        text-align: right;\n",
       "    }\n",
       "</style>\n",
       "<table border=\"1\" class=\"dataframe\">\n",
       "  <thead>\n",
       "    <tr style=\"text-align: right;\">\n",
       "      <th></th>\n",
       "      <th>Employee</th>\n",
       "      <th>betweennes</th>\n",
       "      <th>centrality_rank</th>\n",
       "      <th>rank</th>\n",
       "      <th>color</th>\n",
       "    </tr>\n",
       "  </thead>\n",
       "  <tbody>\n",
       "    <tr>\n",
       "      <th>0</th>\n",
       "      <td>CEO</td>\n",
       "      <td>1.000000</td>\n",
       "      <td>1.000000</td>\n",
       "      <td>1.000000</td>\n",
       "      <td>0.000000e+00</td>\n",
       "    </tr>\n",
       "    <tr>\n",
       "      <th>1</th>\n",
       "      <td>Production.mgr1</td>\n",
       "      <td>0.783388</td>\n",
       "      <td>0.308151</td>\n",
       "      <td>0.545770</td>\n",
       "      <td>3.647221e+05</td>\n",
       "    </tr>\n",
       "    <tr>\n",
       "      <th>7</th>\n",
       "      <td>Sales.Dir</td>\n",
       "      <td>0.255296</td>\n",
       "      <td>0.775986</td>\n",
       "      <td>0.515641</td>\n",
       "      <td>7.294441e+05</td>\n",
       "    </tr>\n",
       "    <tr>\n",
       "      <th>6</th>\n",
       "      <td>Sales.mgr1</td>\n",
       "      <td>0.290588</td>\n",
       "      <td>0.532339</td>\n",
       "      <td>0.411464</td>\n",
       "      <td>1.094166e+06</td>\n",
       "    </tr>\n",
       "    <tr>\n",
       "      <th>3</th>\n",
       "      <td>Admin.Dir</td>\n",
       "      <td>0.342256</td>\n",
       "      <td>0.395253</td>\n",
       "      <td>0.368755</td>\n",
       "      <td>1.458888e+06</td>\n",
       "    </tr>\n",
       "    <tr>\n",
       "      <th>13</th>\n",
       "      <td>Sales.mgr3</td>\n",
       "      <td>0.137157</td>\n",
       "      <td>0.512470</td>\n",
       "      <td>0.324813</td>\n",
       "      <td>1.823610e+06</td>\n",
       "    </tr>\n",
       "    <tr>\n",
       "      <th>9</th>\n",
       "      <td>Production.Dir</td>\n",
       "      <td>0.236851</td>\n",
       "      <td>0.410050</td>\n",
       "      <td>0.323450</td>\n",
       "      <td>2.188332e+06</td>\n",
       "    </tr>\n",
       "    <tr>\n",
       "      <th>16</th>\n",
       "      <td>Sales.mgr2</td>\n",
       "      <td>0.108255</td>\n",
       "      <td>0.498989</td>\n",
       "      <td>0.303622</td>\n",
       "      <td>2.553054e+06</td>\n",
       "    </tr>\n",
       "    <tr>\n",
       "      <th>4</th>\n",
       "      <td>Sales.1</td>\n",
       "      <td>0.335216</td>\n",
       "      <td>0.232240</td>\n",
       "      <td>0.283728</td>\n",
       "      <td>2.917777e+06</td>\n",
       "    </tr>\n",
       "    <tr>\n",
       "      <th>2</th>\n",
       "      <td>Admin.4</td>\n",
       "      <td>0.449441</td>\n",
       "      <td>0.025296</td>\n",
       "      <td>0.237368</td>\n",
       "      <td>3.282499e+06</td>\n",
       "    </tr>\n",
       "    <tr>\n",
       "      <th>15</th>\n",
       "      <td>Admin.mgr1</td>\n",
       "      <td>0.110189</td>\n",
       "      <td>0.281866</td>\n",
       "      <td>0.196028</td>\n",
       "      <td>3.647221e+06</td>\n",
       "    </tr>\n",
       "    <tr>\n",
       "      <th>5</th>\n",
       "      <td>Production.11</td>\n",
       "      <td>0.319525</td>\n",
       "      <td>0.059995</td>\n",
       "      <td>0.189760</td>\n",
       "      <td>4.011943e+06</td>\n",
       "    </tr>\n",
       "    <tr>\n",
       "      <th>30</th>\n",
       "      <td>Sales.8</td>\n",
       "      <td>0.017101</td>\n",
       "      <td>0.274033</td>\n",
       "      <td>0.145567</td>\n",
       "      <td>4.376665e+06</td>\n",
       "    </tr>\n",
       "    <tr>\n",
       "      <th>8</th>\n",
       "      <td>Production.7</td>\n",
       "      <td>0.250194</td>\n",
       "      <td>0.034492</td>\n",
       "      <td>0.142343</td>\n",
       "      <td>4.741387e+06</td>\n",
       "    </tr>\n",
       "    <tr>\n",
       "      <th>29</th>\n",
       "      <td>Sales.9</td>\n",
       "      <td>0.019665</td>\n",
       "      <td>0.225864</td>\n",
       "      <td>0.122764</td>\n",
       "      <td>5.106109e+06</td>\n",
       "    </tr>\n",
       "    <tr>\n",
       "      <th>31</th>\n",
       "      <td>Sales.6</td>\n",
       "      <td>0.013724</td>\n",
       "      <td>0.227203</td>\n",
       "      <td>0.120463</td>\n",
       "      <td>5.470831e+06</td>\n",
       "    </tr>\n",
       "    <tr>\n",
       "      <th>10</th>\n",
       "      <td>Production.14</td>\n",
       "      <td>0.198009</td>\n",
       "      <td>0.029768</td>\n",
       "      <td>0.113888</td>\n",
       "      <td>5.835553e+06</td>\n",
       "    </tr>\n",
       "    <tr>\n",
       "      <th>11</th>\n",
       "      <td>Admin.1</td>\n",
       "      <td>0.180286</td>\n",
       "      <td>0.047045</td>\n",
       "      <td>0.113665</td>\n",
       "      <td>6.200275e+06</td>\n",
       "    </tr>\n",
       "    <tr>\n",
       "      <th>32</th>\n",
       "      <td>Sales.3</td>\n",
       "      <td>0.011974</td>\n",
       "      <td>0.214854</td>\n",
       "      <td>0.113414</td>\n",
       "      <td>6.564997e+06</td>\n",
       "    </tr>\n",
       "    <tr>\n",
       "      <th>33</th>\n",
       "      <td>Sales.4</td>\n",
       "      <td>0.010367</td>\n",
       "      <td>0.213391</td>\n",
       "      <td>0.111879</td>\n",
       "      <td>6.929719e+06</td>\n",
       "    </tr>\n",
       "    <tr>\n",
       "      <th>28</th>\n",
       "      <td>Sales.2</td>\n",
       "      <td>0.019734</td>\n",
       "      <td>0.186700</td>\n",
       "      <td>0.103217</td>\n",
       "      <td>7.294441e+06</td>\n",
       "    </tr>\n",
       "    <tr>\n",
       "      <th>38</th>\n",
       "      <td>Sales.10</td>\n",
       "      <td>0.002867</td>\n",
       "      <td>0.201948</td>\n",
       "      <td>0.102407</td>\n",
       "      <td>7.659163e+06</td>\n",
       "    </tr>\n",
       "    <tr>\n",
       "      <th>17</th>\n",
       "      <td>Production.mgr2</td>\n",
       "      <td>0.106430</td>\n",
       "      <td>0.091217</td>\n",
       "      <td>0.098823</td>\n",
       "      <td>8.023885e+06</td>\n",
       "    </tr>\n",
       "    <tr>\n",
       "      <th>12</th>\n",
       "      <td>Admin.mgr3</td>\n",
       "      <td>0.146719</td>\n",
       "      <td>0.049911</td>\n",
       "      <td>0.098315</td>\n",
       "      <td>8.388608e+06</td>\n",
       "    </tr>\n",
       "    <tr>\n",
       "      <th>18</th>\n",
       "      <td>Production.mgr3</td>\n",
       "      <td>0.105442</td>\n",
       "      <td>0.091082</td>\n",
       "      <td>0.098262</td>\n",
       "      <td>8.753330e+06</td>\n",
       "    </tr>\n",
       "    <tr>\n",
       "      <th>36</th>\n",
       "      <td>Sales.5</td>\n",
       "      <td>0.004378</td>\n",
       "      <td>0.188979</td>\n",
       "      <td>0.096678</td>\n",
       "      <td>9.118052e+06</td>\n",
       "    </tr>\n",
       "    <tr>\n",
       "      <th>37</th>\n",
       "      <td>Sales.7</td>\n",
       "      <td>0.003231</td>\n",
       "      <td>0.175756</td>\n",
       "      <td>0.089494</td>\n",
       "      <td>9.482774e+06</td>\n",
       "    </tr>\n",
       "    <tr>\n",
       "      <th>14</th>\n",
       "      <td>Admin.6</td>\n",
       "      <td>0.126293</td>\n",
       "      <td>0.047787</td>\n",
       "      <td>0.087040</td>\n",
       "      <td>9.847496e+06</td>\n",
       "    </tr>\n",
       "    <tr>\n",
       "      <th>20</th>\n",
       "      <td>Production.10</td>\n",
       "      <td>0.067975</td>\n",
       "      <td>0.030791</td>\n",
       "      <td>0.049383</td>\n",
       "      <td>1.021222e+07</td>\n",
       "    </tr>\n",
       "    <tr>\n",
       "      <th>24</th>\n",
       "      <td>Production.mgr4</td>\n",
       "      <td>0.038405</td>\n",
       "      <td>0.059798</td>\n",
       "      <td>0.049102</td>\n",
       "      <td>1.057694e+07</td>\n",
       "    </tr>\n",
       "    <tr>\n",
       "      <th>19</th>\n",
       "      <td>Admin.5</td>\n",
       "      <td>0.086839</td>\n",
       "      <td>0.010466</td>\n",
       "      <td>0.048652</td>\n",
       "      <td>1.094166e+07</td>\n",
       "    </tr>\n",
       "    <tr>\n",
       "      <th>22</th>\n",
       "      <td>Production.1</td>\n",
       "      <td>0.041796</td>\n",
       "      <td>0.052044</td>\n",
       "      <td>0.046920</td>\n",
       "      <td>1.130638e+07</td>\n",
       "    </tr>\n",
       "    <tr>\n",
       "      <th>27</th>\n",
       "      <td>Admin.mgr2</td>\n",
       "      <td>0.027737</td>\n",
       "      <td>0.055992</td>\n",
       "      <td>0.041865</td>\n",
       "      <td>1.167111e+07</td>\n",
       "    </tr>\n",
       "    <tr>\n",
       "      <th>21</th>\n",
       "      <td>Production.3</td>\n",
       "      <td>0.050350</td>\n",
       "      <td>0.027207</td>\n",
       "      <td>0.038779</td>\n",
       "      <td>1.203583e+07</td>\n",
       "    </tr>\n",
       "    <tr>\n",
       "      <th>35</th>\n",
       "      <td>Admin.2</td>\n",
       "      <td>0.005993</td>\n",
       "      <td>0.066107</td>\n",
       "      <td>0.036050</td>\n",
       "      <td>1.240055e+07</td>\n",
       "    </tr>\n",
       "    <tr>\n",
       "      <th>23</th>\n",
       "      <td>Admin.3</td>\n",
       "      <td>0.040408</td>\n",
       "      <td>0.025066</td>\n",
       "      <td>0.032737</td>\n",
       "      <td>1.276527e+07</td>\n",
       "    </tr>\n",
       "    <tr>\n",
       "      <th>25</th>\n",
       "      <td>Production.9</td>\n",
       "      <td>0.035129</td>\n",
       "      <td>0.007842</td>\n",
       "      <td>0.021486</td>\n",
       "      <td>1.312999e+07</td>\n",
       "    </tr>\n",
       "    <tr>\n",
       "      <th>26</th>\n",
       "      <td>Admin.8</td>\n",
       "      <td>0.032414</td>\n",
       "      <td>0.004959</td>\n",
       "      <td>0.018687</td>\n",
       "      <td>1.349472e+07</td>\n",
       "    </tr>\n",
       "    <tr>\n",
       "      <th>34</th>\n",
       "      <td>Production.2</td>\n",
       "      <td>0.008481</td>\n",
       "      <td>0.028596</td>\n",
       "      <td>0.018539</td>\n",
       "      <td>1.385944e+07</td>\n",
       "    </tr>\n",
       "    <tr>\n",
       "      <th>39</th>\n",
       "      <td>Production.4</td>\n",
       "      <td>0.002097</td>\n",
       "      <td>0.026372</td>\n",
       "      <td>0.014235</td>\n",
       "      <td>1.422416e+07</td>\n",
       "    </tr>\n",
       "    <tr>\n",
       "      <th>42</th>\n",
       "      <td>Production.12</td>\n",
       "      <td>0.000000</td>\n",
       "      <td>0.007425</td>\n",
       "      <td>0.003712</td>\n",
       "      <td>1.458888e+07</td>\n",
       "    </tr>\n",
       "    <tr>\n",
       "      <th>43</th>\n",
       "      <td>Production.13</td>\n",
       "      <td>0.000000</td>\n",
       "      <td>0.007425</td>\n",
       "      <td>0.003712</td>\n",
       "      <td>1.495360e+07</td>\n",
       "    </tr>\n",
       "    <tr>\n",
       "      <th>40</th>\n",
       "      <td>Production.5</td>\n",
       "      <td>0.000000</td>\n",
       "      <td>0.006016</td>\n",
       "      <td>0.003008</td>\n",
       "      <td>1.531833e+07</td>\n",
       "    </tr>\n",
       "    <tr>\n",
       "      <th>41</th>\n",
       "      <td>Production.6</td>\n",
       "      <td>0.000000</td>\n",
       "      <td>0.006016</td>\n",
       "      <td>0.003008</td>\n",
       "      <td>1.568305e+07</td>\n",
       "    </tr>\n",
       "    <tr>\n",
       "      <th>44</th>\n",
       "      <td>Production.8</td>\n",
       "      <td>0.000000</td>\n",
       "      <td>0.005891</td>\n",
       "      <td>0.002946</td>\n",
       "      <td>1.604777e+07</td>\n",
       "    </tr>\n",
       "    <tr>\n",
       "      <th>45</th>\n",
       "      <td>Admin.7</td>\n",
       "      <td>0.000000</td>\n",
       "      <td>0.000000</td>\n",
       "      <td>0.000000</td>\n",
       "      <td>1.641249e+07</td>\n",
       "    </tr>\n",
       "  </tbody>\n",
       "</table>\n",
       "</div>"
      ],
      "text/plain": [
       "           Employee  betweennes  centrality_rank      rank         color\n",
       "0               CEO    1.000000         1.000000  1.000000  0.000000e+00\n",
       "1   Production.mgr1    0.783388         0.308151  0.545770  3.647221e+05\n",
       "7         Sales.Dir    0.255296         0.775986  0.515641  7.294441e+05\n",
       "6        Sales.mgr1    0.290588         0.532339  0.411464  1.094166e+06\n",
       "3         Admin.Dir    0.342256         0.395253  0.368755  1.458888e+06\n",
       "13       Sales.mgr3    0.137157         0.512470  0.324813  1.823610e+06\n",
       "9    Production.Dir    0.236851         0.410050  0.323450  2.188332e+06\n",
       "16       Sales.mgr2    0.108255         0.498989  0.303622  2.553054e+06\n",
       "4           Sales.1    0.335216         0.232240  0.283728  2.917777e+06\n",
       "2           Admin.4    0.449441         0.025296  0.237368  3.282499e+06\n",
       "15       Admin.mgr1    0.110189         0.281866  0.196028  3.647221e+06\n",
       "5     Production.11    0.319525         0.059995  0.189760  4.011943e+06\n",
       "30          Sales.8    0.017101         0.274033  0.145567  4.376665e+06\n",
       "8      Production.7    0.250194         0.034492  0.142343  4.741387e+06\n",
       "29          Sales.9    0.019665         0.225864  0.122764  5.106109e+06\n",
       "31          Sales.6    0.013724         0.227203  0.120463  5.470831e+06\n",
       "10    Production.14    0.198009         0.029768  0.113888  5.835553e+06\n",
       "11          Admin.1    0.180286         0.047045  0.113665  6.200275e+06\n",
       "32          Sales.3    0.011974         0.214854  0.113414  6.564997e+06\n",
       "33          Sales.4    0.010367         0.213391  0.111879  6.929719e+06\n",
       "28          Sales.2    0.019734         0.186700  0.103217  7.294441e+06\n",
       "38         Sales.10    0.002867         0.201948  0.102407  7.659163e+06\n",
       "17  Production.mgr2    0.106430         0.091217  0.098823  8.023885e+06\n",
       "12       Admin.mgr3    0.146719         0.049911  0.098315  8.388608e+06\n",
       "18  Production.mgr3    0.105442         0.091082  0.098262  8.753330e+06\n",
       "36          Sales.5    0.004378         0.188979  0.096678  9.118052e+06\n",
       "37          Sales.7    0.003231         0.175756  0.089494  9.482774e+06\n",
       "14          Admin.6    0.126293         0.047787  0.087040  9.847496e+06\n",
       "20    Production.10    0.067975         0.030791  0.049383  1.021222e+07\n",
       "24  Production.mgr4    0.038405         0.059798  0.049102  1.057694e+07\n",
       "19          Admin.5    0.086839         0.010466  0.048652  1.094166e+07\n",
       "22     Production.1    0.041796         0.052044  0.046920  1.130638e+07\n",
       "27       Admin.mgr2    0.027737         0.055992  0.041865  1.167111e+07\n",
       "21     Production.3    0.050350         0.027207  0.038779  1.203583e+07\n",
       "35          Admin.2    0.005993         0.066107  0.036050  1.240055e+07\n",
       "23          Admin.3    0.040408         0.025066  0.032737  1.276527e+07\n",
       "25     Production.9    0.035129         0.007842  0.021486  1.312999e+07\n",
       "26          Admin.8    0.032414         0.004959  0.018687  1.349472e+07\n",
       "34     Production.2    0.008481         0.028596  0.018539  1.385944e+07\n",
       "39     Production.4    0.002097         0.026372  0.014235  1.422416e+07\n",
       "42    Production.12    0.000000         0.007425  0.003712  1.458888e+07\n",
       "43    Production.13    0.000000         0.007425  0.003712  1.495360e+07\n",
       "40     Production.5    0.000000         0.006016  0.003008  1.531833e+07\n",
       "41     Production.6    0.000000         0.006016  0.003008  1.568305e+07\n",
       "44     Production.8    0.000000         0.005891  0.002946  1.604777e+07\n",
       "45          Admin.7    0.000000         0.000000  0.000000  1.641249e+07"
      ]
     },
     "execution_count": 11,
     "metadata": {},
     "output_type": "execute_result"
    }
   ],
   "source": [
    "import numpy as np\n",
    "c = np.arange(0, 0xFFFFFF, 0xFFFFFF/46)\n",
    "df_tot[\"color\"] = c\n",
    "df_tot"
   ]
  },
  {
   "cell_type": "code",
   "execution_count": 12,
   "metadata": {},
   "outputs": [
    {
     "ename": "ValueError",
     "evalue": "Mime type rendering requires nbformat>=4.2.0 but it is not installed",
     "output_type": "error",
     "traceback": [
      "\u001b[1;31m---------------------------------------------------------------------------\u001b[0m",
      "\u001b[1;31mValueError\u001b[0m                                Traceback (most recent call last)",
      "File \u001b[1;32mc:\\Users\\teuta\\Desktop\\vscode\\.venv\\Lib\\site-packages\\IPython\\core\\formatters.py:922\u001b[0m, in \u001b[0;36mIPythonDisplayFormatter.__call__\u001b[1;34m(self, obj)\u001b[0m\n\u001b[0;32m    920\u001b[0m method \u001b[39m=\u001b[39m get_real_method(obj, \u001b[39mself\u001b[39m\u001b[39m.\u001b[39mprint_method)\n\u001b[0;32m    921\u001b[0m \u001b[39mif\u001b[39;00m method \u001b[39mis\u001b[39;00m \u001b[39mnot\u001b[39;00m \u001b[39mNone\u001b[39;00m:\n\u001b[1;32m--> 922\u001b[0m     method()\n\u001b[0;32m    923\u001b[0m     \u001b[39mreturn\u001b[39;00m \u001b[39mTrue\u001b[39;00m\n",
      "File \u001b[1;32mc:\\Users\\teuta\\Desktop\\vscode\\.venv\\Lib\\site-packages\\plotly\\basedatatypes.py:834\u001b[0m, in \u001b[0;36mBaseFigure._ipython_display_\u001b[1;34m(self)\u001b[0m\n\u001b[0;32m    831\u001b[0m \u001b[39mimport\u001b[39;00m \u001b[39mplotly\u001b[39;00m\u001b[39m.\u001b[39;00m\u001b[39mio\u001b[39;00m \u001b[39mas\u001b[39;00m \u001b[39mpio\u001b[39;00m\n\u001b[0;32m    833\u001b[0m \u001b[39mif\u001b[39;00m pio\u001b[39m.\u001b[39mrenderers\u001b[39m.\u001b[39mrender_on_display \u001b[39mand\u001b[39;00m pio\u001b[39m.\u001b[39mrenderers\u001b[39m.\u001b[39mdefault:\n\u001b[1;32m--> 834\u001b[0m     pio\u001b[39m.\u001b[39;49mshow(\u001b[39mself\u001b[39;49m)\n\u001b[0;32m    835\u001b[0m \u001b[39melse\u001b[39;00m:\n\u001b[0;32m    836\u001b[0m     \u001b[39mprint\u001b[39m(\u001b[39mrepr\u001b[39m(\u001b[39mself\u001b[39m))\n",
      "File \u001b[1;32mc:\\Users\\teuta\\Desktop\\vscode\\.venv\\Lib\\site-packages\\plotly\\io\\_renderers.py:396\u001b[0m, in \u001b[0;36mshow\u001b[1;34m(fig, renderer, validate, **kwargs)\u001b[0m\n\u001b[0;32m    391\u001b[0m         \u001b[39mraise\u001b[39;00m \u001b[39mValueError\u001b[39;00m(\n\u001b[0;32m    392\u001b[0m             \u001b[39m\"\u001b[39m\u001b[39mMime type rendering requires ipython but it is not installed\u001b[39m\u001b[39m\"\u001b[39m\n\u001b[0;32m    393\u001b[0m         )\n\u001b[0;32m    395\u001b[0m     \u001b[39mif\u001b[39;00m \u001b[39mnot\u001b[39;00m nbformat \u001b[39mor\u001b[39;00m Version(nbformat\u001b[39m.\u001b[39m__version__) \u001b[39m<\u001b[39m Version(\u001b[39m\"\u001b[39m\u001b[39m4.2.0\u001b[39m\u001b[39m\"\u001b[39m):\n\u001b[1;32m--> 396\u001b[0m         \u001b[39mraise\u001b[39;00m \u001b[39mValueError\u001b[39;00m(\n\u001b[0;32m    397\u001b[0m             \u001b[39m\"\u001b[39m\u001b[39mMime type rendering requires nbformat>=4.2.0 but it is not installed\u001b[39m\u001b[39m\"\u001b[39m\n\u001b[0;32m    398\u001b[0m         )\n\u001b[0;32m    400\u001b[0m     ipython_display\u001b[39m.\u001b[39mdisplay(bundle, raw\u001b[39m=\u001b[39m\u001b[39mTrue\u001b[39;00m)\n\u001b[0;32m    402\u001b[0m \u001b[39m# external renderers\u001b[39;00m\n",
      "\u001b[1;31mValueError\u001b[0m: Mime type rendering requires nbformat>=4.2.0 but it is not installed"
     ]
    },
    {
     "data": {
      "application/vnd.plotly.v1+json": {
       "config": {
        "plotlyServerURL": "https://plot.ly"
       },
       "data": [
        {
         "alignmentgroup": "True",
         "hovertemplate": "Employee=%{x}<br>rank=%{y}<extra></extra>",
         "legendgroup": "",
         "marker": {
          "color": "#636efa",
          "pattern": {
           "shape": ""
          }
         },
         "name": "",
         "offsetgroup": "",
         "orientation": "v",
         "showlegend": false,
         "textposition": "auto",
         "type": "bar",
         "x": [
          "CEO",
          "Production.mgr1",
          "Sales.Dir",
          "Sales.mgr1",
          "Admin.Dir",
          "Sales.mgr3",
          "Production.Dir",
          "Sales.mgr2",
          "Sales.1",
          "Admin.4",
          "Admin.mgr1",
          "Production.11",
          "Sales.8",
          "Production.7",
          "Sales.9",
          "Sales.6",
          "Production.14",
          "Admin.1",
          "Sales.3",
          "Sales.4",
          "Sales.2",
          "Sales.10",
          "Production.mgr2",
          "Admin.mgr3",
          "Production.mgr3",
          "Sales.5",
          "Sales.7",
          "Admin.6",
          "Production.10",
          "Production.mgr4",
          "Admin.5",
          "Production.1",
          "Admin.mgr2",
          "Production.3",
          "Admin.2",
          "Admin.3",
          "Production.9",
          "Admin.8",
          "Production.2",
          "Production.4",
          "Production.12",
          "Production.13",
          "Production.5",
          "Production.6",
          "Production.8",
          "Admin.7"
         ],
         "xaxis": "x",
         "y": [
          1,
          0.545769703272151,
          0.5156411462235719,
          0.411463691081016,
          0.3687546336340469,
          0.3248133234524724,
          0.3234504331548575,
          0.3036221332756157,
          0.2837282357353882,
          0.2373683525938021,
          0.19602781906227684,
          0.18975998603054114,
          0.14556710790418967,
          0.14234309164761433,
          0.12276417016043566,
          0.12046323324386224,
          0.11388847844102185,
          0.11366543882902534,
          0.11341418889237125,
          0.11187891986859362,
          0.10321701003154166,
          0.10240735129080912,
          0.09882324673577068,
          0.09831538836346206,
          0.0982616705956261,
          0.09667839823926438,
          0.08949368042868622,
          0.08704002461260482,
          0.04938314573614218,
          0.04910160698036647,
          0.04865225080209088,
          0.04692031476828963,
          0.04186454545443719,
          0.03877851702518101,
          0.03605007096041795,
          0.032737146315794524,
          0.021485879963416818,
          0.018686708428351927,
          0.018538592626734712,
          0.014234524297405283,
          0.0037122684815464953,
          0.0037122684815464953,
          0.003008133328600921,
          0.003008133328600921,
          0.002945610210738026,
          0
         ],
         "yaxis": "y"
        }
       ],
       "layout": {
        "barmode": "relative",
        "legend": {
         "tracegroupgap": 0
        },
        "margin": {
         "t": 60
        },
        "template": {
         "data": {
          "bar": [
           {
            "error_x": {
             "color": "#2a3f5f"
            },
            "error_y": {
             "color": "#2a3f5f"
            },
            "marker": {
             "line": {
              "color": "#E5ECF6",
              "width": 0.5
             },
             "pattern": {
              "fillmode": "overlay",
              "size": 10,
              "solidity": 0.2
             }
            },
            "type": "bar"
           }
          ],
          "barpolar": [
           {
            "marker": {
             "line": {
              "color": "#E5ECF6",
              "width": 0.5
             },
             "pattern": {
              "fillmode": "overlay",
              "size": 10,
              "solidity": 0.2
             }
            },
            "type": "barpolar"
           }
          ],
          "carpet": [
           {
            "aaxis": {
             "endlinecolor": "#2a3f5f",
             "gridcolor": "white",
             "linecolor": "white",
             "minorgridcolor": "white",
             "startlinecolor": "#2a3f5f"
            },
            "baxis": {
             "endlinecolor": "#2a3f5f",
             "gridcolor": "white",
             "linecolor": "white",
             "minorgridcolor": "white",
             "startlinecolor": "#2a3f5f"
            },
            "type": "carpet"
           }
          ],
          "choropleth": [
           {
            "colorbar": {
             "outlinewidth": 0,
             "ticks": ""
            },
            "type": "choropleth"
           }
          ],
          "contour": [
           {
            "colorbar": {
             "outlinewidth": 0,
             "ticks": ""
            },
            "colorscale": [
             [
              0,
              "#0d0887"
             ],
             [
              0.1111111111111111,
              "#46039f"
             ],
             [
              0.2222222222222222,
              "#7201a8"
             ],
             [
              0.3333333333333333,
              "#9c179e"
             ],
             [
              0.4444444444444444,
              "#bd3786"
             ],
             [
              0.5555555555555556,
              "#d8576b"
             ],
             [
              0.6666666666666666,
              "#ed7953"
             ],
             [
              0.7777777777777778,
              "#fb9f3a"
             ],
             [
              0.8888888888888888,
              "#fdca26"
             ],
             [
              1,
              "#f0f921"
             ]
            ],
            "type": "contour"
           }
          ],
          "contourcarpet": [
           {
            "colorbar": {
             "outlinewidth": 0,
             "ticks": ""
            },
            "type": "contourcarpet"
           }
          ],
          "heatmap": [
           {
            "colorbar": {
             "outlinewidth": 0,
             "ticks": ""
            },
            "colorscale": [
             [
              0,
              "#0d0887"
             ],
             [
              0.1111111111111111,
              "#46039f"
             ],
             [
              0.2222222222222222,
              "#7201a8"
             ],
             [
              0.3333333333333333,
              "#9c179e"
             ],
             [
              0.4444444444444444,
              "#bd3786"
             ],
             [
              0.5555555555555556,
              "#d8576b"
             ],
             [
              0.6666666666666666,
              "#ed7953"
             ],
             [
              0.7777777777777778,
              "#fb9f3a"
             ],
             [
              0.8888888888888888,
              "#fdca26"
             ],
             [
              1,
              "#f0f921"
             ]
            ],
            "type": "heatmap"
           }
          ],
          "heatmapgl": [
           {
            "colorbar": {
             "outlinewidth": 0,
             "ticks": ""
            },
            "colorscale": [
             [
              0,
              "#0d0887"
             ],
             [
              0.1111111111111111,
              "#46039f"
             ],
             [
              0.2222222222222222,
              "#7201a8"
             ],
             [
              0.3333333333333333,
              "#9c179e"
             ],
             [
              0.4444444444444444,
              "#bd3786"
             ],
             [
              0.5555555555555556,
              "#d8576b"
             ],
             [
              0.6666666666666666,
              "#ed7953"
             ],
             [
              0.7777777777777778,
              "#fb9f3a"
             ],
             [
              0.8888888888888888,
              "#fdca26"
             ],
             [
              1,
              "#f0f921"
             ]
            ],
            "type": "heatmapgl"
           }
          ],
          "histogram": [
           {
            "marker": {
             "pattern": {
              "fillmode": "overlay",
              "size": 10,
              "solidity": 0.2
             }
            },
            "type": "histogram"
           }
          ],
          "histogram2d": [
           {
            "colorbar": {
             "outlinewidth": 0,
             "ticks": ""
            },
            "colorscale": [
             [
              0,
              "#0d0887"
             ],
             [
              0.1111111111111111,
              "#46039f"
             ],
             [
              0.2222222222222222,
              "#7201a8"
             ],
             [
              0.3333333333333333,
              "#9c179e"
             ],
             [
              0.4444444444444444,
              "#bd3786"
             ],
             [
              0.5555555555555556,
              "#d8576b"
             ],
             [
              0.6666666666666666,
              "#ed7953"
             ],
             [
              0.7777777777777778,
              "#fb9f3a"
             ],
             [
              0.8888888888888888,
              "#fdca26"
             ],
             [
              1,
              "#f0f921"
             ]
            ],
            "type": "histogram2d"
           }
          ],
          "histogram2dcontour": [
           {
            "colorbar": {
             "outlinewidth": 0,
             "ticks": ""
            },
            "colorscale": [
             [
              0,
              "#0d0887"
             ],
             [
              0.1111111111111111,
              "#46039f"
             ],
             [
              0.2222222222222222,
              "#7201a8"
             ],
             [
              0.3333333333333333,
              "#9c179e"
             ],
             [
              0.4444444444444444,
              "#bd3786"
             ],
             [
              0.5555555555555556,
              "#d8576b"
             ],
             [
              0.6666666666666666,
              "#ed7953"
             ],
             [
              0.7777777777777778,
              "#fb9f3a"
             ],
             [
              0.8888888888888888,
              "#fdca26"
             ],
             [
              1,
              "#f0f921"
             ]
            ],
            "type": "histogram2dcontour"
           }
          ],
          "mesh3d": [
           {
            "colorbar": {
             "outlinewidth": 0,
             "ticks": ""
            },
            "type": "mesh3d"
           }
          ],
          "parcoords": [
           {
            "line": {
             "colorbar": {
              "outlinewidth": 0,
              "ticks": ""
             }
            },
            "type": "parcoords"
           }
          ],
          "pie": [
           {
            "automargin": true,
            "type": "pie"
           }
          ],
          "scatter": [
           {
            "fillpattern": {
             "fillmode": "overlay",
             "size": 10,
             "solidity": 0.2
            },
            "type": "scatter"
           }
          ],
          "scatter3d": [
           {
            "line": {
             "colorbar": {
              "outlinewidth": 0,
              "ticks": ""
             }
            },
            "marker": {
             "colorbar": {
              "outlinewidth": 0,
              "ticks": ""
             }
            },
            "type": "scatter3d"
           }
          ],
          "scattercarpet": [
           {
            "marker": {
             "colorbar": {
              "outlinewidth": 0,
              "ticks": ""
             }
            },
            "type": "scattercarpet"
           }
          ],
          "scattergeo": [
           {
            "marker": {
             "colorbar": {
              "outlinewidth": 0,
              "ticks": ""
             }
            },
            "type": "scattergeo"
           }
          ],
          "scattergl": [
           {
            "marker": {
             "colorbar": {
              "outlinewidth": 0,
              "ticks": ""
             }
            },
            "type": "scattergl"
           }
          ],
          "scattermapbox": [
           {
            "marker": {
             "colorbar": {
              "outlinewidth": 0,
              "ticks": ""
             }
            },
            "type": "scattermapbox"
           }
          ],
          "scatterpolar": [
           {
            "marker": {
             "colorbar": {
              "outlinewidth": 0,
              "ticks": ""
             }
            },
            "type": "scatterpolar"
           }
          ],
          "scatterpolargl": [
           {
            "marker": {
             "colorbar": {
              "outlinewidth": 0,
              "ticks": ""
             }
            },
            "type": "scatterpolargl"
           }
          ],
          "scatterternary": [
           {
            "marker": {
             "colorbar": {
              "outlinewidth": 0,
              "ticks": ""
             }
            },
            "type": "scatterternary"
           }
          ],
          "surface": [
           {
            "colorbar": {
             "outlinewidth": 0,
             "ticks": ""
            },
            "colorscale": [
             [
              0,
              "#0d0887"
             ],
             [
              0.1111111111111111,
              "#46039f"
             ],
             [
              0.2222222222222222,
              "#7201a8"
             ],
             [
              0.3333333333333333,
              "#9c179e"
             ],
             [
              0.4444444444444444,
              "#bd3786"
             ],
             [
              0.5555555555555556,
              "#d8576b"
             ],
             [
              0.6666666666666666,
              "#ed7953"
             ],
             [
              0.7777777777777778,
              "#fb9f3a"
             ],
             [
              0.8888888888888888,
              "#fdca26"
             ],
             [
              1,
              "#f0f921"
             ]
            ],
            "type": "surface"
           }
          ],
          "table": [
           {
            "cells": {
             "fill": {
              "color": "#EBF0F8"
             },
             "line": {
              "color": "white"
             }
            },
            "header": {
             "fill": {
              "color": "#C8D4E3"
             },
             "line": {
              "color": "white"
             }
            },
            "type": "table"
           }
          ]
         },
         "layout": {
          "annotationdefaults": {
           "arrowcolor": "#2a3f5f",
           "arrowhead": 0,
           "arrowwidth": 1
          },
          "autotypenumbers": "strict",
          "coloraxis": {
           "colorbar": {
            "outlinewidth": 0,
            "ticks": ""
           }
          },
          "colorscale": {
           "diverging": [
            [
             0,
             "#8e0152"
            ],
            [
             0.1,
             "#c51b7d"
            ],
            [
             0.2,
             "#de77ae"
            ],
            [
             0.3,
             "#f1b6da"
            ],
            [
             0.4,
             "#fde0ef"
            ],
            [
             0.5,
             "#f7f7f7"
            ],
            [
             0.6,
             "#e6f5d0"
            ],
            [
             0.7,
             "#b8e186"
            ],
            [
             0.8,
             "#7fbc41"
            ],
            [
             0.9,
             "#4d9221"
            ],
            [
             1,
             "#276419"
            ]
           ],
           "sequential": [
            [
             0,
             "#0d0887"
            ],
            [
             0.1111111111111111,
             "#46039f"
            ],
            [
             0.2222222222222222,
             "#7201a8"
            ],
            [
             0.3333333333333333,
             "#9c179e"
            ],
            [
             0.4444444444444444,
             "#bd3786"
            ],
            [
             0.5555555555555556,
             "#d8576b"
            ],
            [
             0.6666666666666666,
             "#ed7953"
            ],
            [
             0.7777777777777778,
             "#fb9f3a"
            ],
            [
             0.8888888888888888,
             "#fdca26"
            ],
            [
             1,
             "#f0f921"
            ]
           ],
           "sequentialminus": [
            [
             0,
             "#0d0887"
            ],
            [
             0.1111111111111111,
             "#46039f"
            ],
            [
             0.2222222222222222,
             "#7201a8"
            ],
            [
             0.3333333333333333,
             "#9c179e"
            ],
            [
             0.4444444444444444,
             "#bd3786"
            ],
            [
             0.5555555555555556,
             "#d8576b"
            ],
            [
             0.6666666666666666,
             "#ed7953"
            ],
            [
             0.7777777777777778,
             "#fb9f3a"
            ],
            [
             0.8888888888888888,
             "#fdca26"
            ],
            [
             1,
             "#f0f921"
            ]
           ]
          },
          "colorway": [
           "#636efa",
           "#EF553B",
           "#00cc96",
           "#ab63fa",
           "#FFA15A",
           "#19d3f3",
           "#FF6692",
           "#B6E880",
           "#FF97FF",
           "#FECB52"
          ],
          "font": {
           "color": "#2a3f5f"
          },
          "geo": {
           "bgcolor": "white",
           "lakecolor": "white",
           "landcolor": "#E5ECF6",
           "showlakes": true,
           "showland": true,
           "subunitcolor": "white"
          },
          "hoverlabel": {
           "align": "left"
          },
          "hovermode": "closest",
          "mapbox": {
           "style": "light"
          },
          "paper_bgcolor": "white",
          "plot_bgcolor": "#E5ECF6",
          "polar": {
           "angularaxis": {
            "gridcolor": "white",
            "linecolor": "white",
            "ticks": ""
           },
           "bgcolor": "#E5ECF6",
           "radialaxis": {
            "gridcolor": "white",
            "linecolor": "white",
            "ticks": ""
           }
          },
          "scene": {
           "xaxis": {
            "backgroundcolor": "#E5ECF6",
            "gridcolor": "white",
            "gridwidth": 2,
            "linecolor": "white",
            "showbackground": true,
            "ticks": "",
            "zerolinecolor": "white"
           },
           "yaxis": {
            "backgroundcolor": "#E5ECF6",
            "gridcolor": "white",
            "gridwidth": 2,
            "linecolor": "white",
            "showbackground": true,
            "ticks": "",
            "zerolinecolor": "white"
           },
           "zaxis": {
            "backgroundcolor": "#E5ECF6",
            "gridcolor": "white",
            "gridwidth": 2,
            "linecolor": "white",
            "showbackground": true,
            "ticks": "",
            "zerolinecolor": "white"
           }
          },
          "shapedefaults": {
           "line": {
            "color": "#2a3f5f"
           }
          },
          "ternary": {
           "aaxis": {
            "gridcolor": "white",
            "linecolor": "white",
            "ticks": ""
           },
           "baxis": {
            "gridcolor": "white",
            "linecolor": "white",
            "ticks": ""
           },
           "bgcolor": "#E5ECF6",
           "caxis": {
            "gridcolor": "white",
            "linecolor": "white",
            "ticks": ""
           }
          },
          "title": {
           "x": 0.05
          },
          "xaxis": {
           "automargin": true,
           "gridcolor": "white",
           "linecolor": "white",
           "ticks": "",
           "title": {
            "standoff": 15
           },
           "zerolinecolor": "white",
           "zerolinewidth": 2
          },
          "yaxis": {
           "automargin": true,
           "gridcolor": "white",
           "linecolor": "white",
           "ticks": "",
           "title": {
            "standoff": 15
           },
           "zerolinecolor": "white",
           "zerolinewidth": 2
          }
         }
        },
        "xaxis": {
         "anchor": "y",
         "domain": [
          0,
          1
         ],
         "title": {
          "text": "Employee"
         }
        },
        "yaxis": {
         "anchor": "x",
         "domain": [
          0,
          1
         ],
         "title": {
          "text": "rank"
         }
        }
       }
      },
      "text/html": [
       "<div>                        <script type=\"text/javascript\">window.PlotlyConfig = {MathJaxConfig: 'local'};</script>\n",
       "        <script charset=\"utf-8\" src=\"https://cdn.plot.ly/plotly-2.25.2.min.js\"></script>                <div id=\"cdb55a0a-9854-49bd-bd6d-44d1a051b445\" class=\"plotly-graph-div\" style=\"height:100%; width:100%;\"></div>            <script type=\"text/javascript\">                                    window.PLOTLYENV=window.PLOTLYENV || {};                                    if (document.getElementById(\"cdb55a0a-9854-49bd-bd6d-44d1a051b445\")) {                    Plotly.newPlot(                        \"cdb55a0a-9854-49bd-bd6d-44d1a051b445\",                        [{\"alignmentgroup\":\"True\",\"hovertemplate\":\"Employee=%{x}\\u003cbr\\u003erank=%{y}\\u003cextra\\u003e\\u003c\\u002fextra\\u003e\",\"legendgroup\":\"\",\"marker\":{\"color\":\"#636efa\",\"pattern\":{\"shape\":\"\"}},\"name\":\"\",\"offsetgroup\":\"\",\"orientation\":\"v\",\"showlegend\":false,\"textposition\":\"auto\",\"x\":[\"CEO\",\"Production.mgr1\",\"Sales.Dir\",\"Sales.mgr1\",\"Admin.Dir\",\"Sales.mgr3\",\"Production.Dir\",\"Sales.mgr2\",\"Sales.1\",\"Admin.4\",\"Admin.mgr1\",\"Production.11\",\"Sales.8\",\"Production.7\",\"Sales.9\",\"Sales.6\",\"Production.14\",\"Admin.1\",\"Sales.3\",\"Sales.4\",\"Sales.2\",\"Sales.10\",\"Production.mgr2\",\"Admin.mgr3\",\"Production.mgr3\",\"Sales.5\",\"Sales.7\",\"Admin.6\",\"Production.10\",\"Production.mgr4\",\"Admin.5\",\"Production.1\",\"Admin.mgr2\",\"Production.3\",\"Admin.2\",\"Admin.3\",\"Production.9\",\"Admin.8\",\"Production.2\",\"Production.4\",\"Production.12\",\"Production.13\",\"Production.5\",\"Production.6\",\"Production.8\",\"Admin.7\"],\"xaxis\":\"x\",\"y\":[1.0,0.545769703272151,0.5156411462235719,0.411463691081016,0.3687546336340469,0.3248133234524724,0.3234504331548575,0.3036221332756157,0.2837282357353882,0.2373683525938021,0.19602781906227684,0.18975998603054114,0.14556710790418967,0.14234309164761433,0.12276417016043566,0.12046323324386224,0.11388847844102185,0.11366543882902534,0.11341418889237125,0.11187891986859362,0.10321701003154166,0.10240735129080912,0.09882324673577068,0.09831538836346206,0.0982616705956261,0.09667839823926438,0.08949368042868622,0.08704002461260482,0.04938314573614218,0.04910160698036647,0.04865225080209088,0.04692031476828963,0.04186454545443719,0.03877851702518101,0.03605007096041795,0.032737146315794524,0.021485879963416818,0.018686708428351927,0.018538592626734712,0.014234524297405283,0.0037122684815464953,0.0037122684815464953,0.003008133328600921,0.003008133328600921,0.002945610210738026,0.0],\"yaxis\":\"y\",\"type\":\"bar\"}],                        {\"template\":{\"data\":{\"histogram2dcontour\":[{\"type\":\"histogram2dcontour\",\"colorbar\":{\"outlinewidth\":0,\"ticks\":\"\"},\"colorscale\":[[0.0,\"#0d0887\"],[0.1111111111111111,\"#46039f\"],[0.2222222222222222,\"#7201a8\"],[0.3333333333333333,\"#9c179e\"],[0.4444444444444444,\"#bd3786\"],[0.5555555555555556,\"#d8576b\"],[0.6666666666666666,\"#ed7953\"],[0.7777777777777778,\"#fb9f3a\"],[0.8888888888888888,\"#fdca26\"],[1.0,\"#f0f921\"]]}],\"choropleth\":[{\"type\":\"choropleth\",\"colorbar\":{\"outlinewidth\":0,\"ticks\":\"\"}}],\"histogram2d\":[{\"type\":\"histogram2d\",\"colorbar\":{\"outlinewidth\":0,\"ticks\":\"\"},\"colorscale\":[[0.0,\"#0d0887\"],[0.1111111111111111,\"#46039f\"],[0.2222222222222222,\"#7201a8\"],[0.3333333333333333,\"#9c179e\"],[0.4444444444444444,\"#bd3786\"],[0.5555555555555556,\"#d8576b\"],[0.6666666666666666,\"#ed7953\"],[0.7777777777777778,\"#fb9f3a\"],[0.8888888888888888,\"#fdca26\"],[1.0,\"#f0f921\"]]}],\"heatmap\":[{\"type\":\"heatmap\",\"colorbar\":{\"outlinewidth\":0,\"ticks\":\"\"},\"colorscale\":[[0.0,\"#0d0887\"],[0.1111111111111111,\"#46039f\"],[0.2222222222222222,\"#7201a8\"],[0.3333333333333333,\"#9c179e\"],[0.4444444444444444,\"#bd3786\"],[0.5555555555555556,\"#d8576b\"],[0.6666666666666666,\"#ed7953\"],[0.7777777777777778,\"#fb9f3a\"],[0.8888888888888888,\"#fdca26\"],[1.0,\"#f0f921\"]]}],\"heatmapgl\":[{\"type\":\"heatmapgl\",\"colorbar\":{\"outlinewidth\":0,\"ticks\":\"\"},\"colorscale\":[[0.0,\"#0d0887\"],[0.1111111111111111,\"#46039f\"],[0.2222222222222222,\"#7201a8\"],[0.3333333333333333,\"#9c179e\"],[0.4444444444444444,\"#bd3786\"],[0.5555555555555556,\"#d8576b\"],[0.6666666666666666,\"#ed7953\"],[0.7777777777777778,\"#fb9f3a\"],[0.8888888888888888,\"#fdca26\"],[1.0,\"#f0f921\"]]}],\"contourcarpet\":[{\"type\":\"contourcarpet\",\"colorbar\":{\"outlinewidth\":0,\"ticks\":\"\"}}],\"contour\":[{\"type\":\"contour\",\"colorbar\":{\"outlinewidth\":0,\"ticks\":\"\"},\"colorscale\":[[0.0,\"#0d0887\"],[0.1111111111111111,\"#46039f\"],[0.2222222222222222,\"#7201a8\"],[0.3333333333333333,\"#9c179e\"],[0.4444444444444444,\"#bd3786\"],[0.5555555555555556,\"#d8576b\"],[0.6666666666666666,\"#ed7953\"],[0.7777777777777778,\"#fb9f3a\"],[0.8888888888888888,\"#fdca26\"],[1.0,\"#f0f921\"]]}],\"surface\":[{\"type\":\"surface\",\"colorbar\":{\"outlinewidth\":0,\"ticks\":\"\"},\"colorscale\":[[0.0,\"#0d0887\"],[0.1111111111111111,\"#46039f\"],[0.2222222222222222,\"#7201a8\"],[0.3333333333333333,\"#9c179e\"],[0.4444444444444444,\"#bd3786\"],[0.5555555555555556,\"#d8576b\"],[0.6666666666666666,\"#ed7953\"],[0.7777777777777778,\"#fb9f3a\"],[0.8888888888888888,\"#fdca26\"],[1.0,\"#f0f921\"]]}],\"mesh3d\":[{\"type\":\"mesh3d\",\"colorbar\":{\"outlinewidth\":0,\"ticks\":\"\"}}],\"scatter\":[{\"fillpattern\":{\"fillmode\":\"overlay\",\"size\":10,\"solidity\":0.2},\"type\":\"scatter\"}],\"parcoords\":[{\"type\":\"parcoords\",\"line\":{\"colorbar\":{\"outlinewidth\":0,\"ticks\":\"\"}}}],\"scatterpolargl\":[{\"type\":\"scatterpolargl\",\"marker\":{\"colorbar\":{\"outlinewidth\":0,\"ticks\":\"\"}}}],\"bar\":[{\"error_x\":{\"color\":\"#2a3f5f\"},\"error_y\":{\"color\":\"#2a3f5f\"},\"marker\":{\"line\":{\"color\":\"#E5ECF6\",\"width\":0.5},\"pattern\":{\"fillmode\":\"overlay\",\"size\":10,\"solidity\":0.2}},\"type\":\"bar\"}],\"scattergeo\":[{\"type\":\"scattergeo\",\"marker\":{\"colorbar\":{\"outlinewidth\":0,\"ticks\":\"\"}}}],\"scatterpolar\":[{\"type\":\"scatterpolar\",\"marker\":{\"colorbar\":{\"outlinewidth\":0,\"ticks\":\"\"}}}],\"histogram\":[{\"marker\":{\"pattern\":{\"fillmode\":\"overlay\",\"size\":10,\"solidity\":0.2}},\"type\":\"histogram\"}],\"scattergl\":[{\"type\":\"scattergl\",\"marker\":{\"colorbar\":{\"outlinewidth\":0,\"ticks\":\"\"}}}],\"scatter3d\":[{\"type\":\"scatter3d\",\"line\":{\"colorbar\":{\"outlinewidth\":0,\"ticks\":\"\"}},\"marker\":{\"colorbar\":{\"outlinewidth\":0,\"ticks\":\"\"}}}],\"scattermapbox\":[{\"type\":\"scattermapbox\",\"marker\":{\"colorbar\":{\"outlinewidth\":0,\"ticks\":\"\"}}}],\"scatterternary\":[{\"type\":\"scatterternary\",\"marker\":{\"colorbar\":{\"outlinewidth\":0,\"ticks\":\"\"}}}],\"scattercarpet\":[{\"type\":\"scattercarpet\",\"marker\":{\"colorbar\":{\"outlinewidth\":0,\"ticks\":\"\"}}}],\"carpet\":[{\"aaxis\":{\"endlinecolor\":\"#2a3f5f\",\"gridcolor\":\"white\",\"linecolor\":\"white\",\"minorgridcolor\":\"white\",\"startlinecolor\":\"#2a3f5f\"},\"baxis\":{\"endlinecolor\":\"#2a3f5f\",\"gridcolor\":\"white\",\"linecolor\":\"white\",\"minorgridcolor\":\"white\",\"startlinecolor\":\"#2a3f5f\"},\"type\":\"carpet\"}],\"table\":[{\"cells\":{\"fill\":{\"color\":\"#EBF0F8\"},\"line\":{\"color\":\"white\"}},\"header\":{\"fill\":{\"color\":\"#C8D4E3\"},\"line\":{\"color\":\"white\"}},\"type\":\"table\"}],\"barpolar\":[{\"marker\":{\"line\":{\"color\":\"#E5ECF6\",\"width\":0.5},\"pattern\":{\"fillmode\":\"overlay\",\"size\":10,\"solidity\":0.2}},\"type\":\"barpolar\"}],\"pie\":[{\"automargin\":true,\"type\":\"pie\"}]},\"layout\":{\"autotypenumbers\":\"strict\",\"colorway\":[\"#636efa\",\"#EF553B\",\"#00cc96\",\"#ab63fa\",\"#FFA15A\",\"#19d3f3\",\"#FF6692\",\"#B6E880\",\"#FF97FF\",\"#FECB52\"],\"font\":{\"color\":\"#2a3f5f\"},\"hovermode\":\"closest\",\"hoverlabel\":{\"align\":\"left\"},\"paper_bgcolor\":\"white\",\"plot_bgcolor\":\"#E5ECF6\",\"polar\":{\"bgcolor\":\"#E5ECF6\",\"angularaxis\":{\"gridcolor\":\"white\",\"linecolor\":\"white\",\"ticks\":\"\"},\"radialaxis\":{\"gridcolor\":\"white\",\"linecolor\":\"white\",\"ticks\":\"\"}},\"ternary\":{\"bgcolor\":\"#E5ECF6\",\"aaxis\":{\"gridcolor\":\"white\",\"linecolor\":\"white\",\"ticks\":\"\"},\"baxis\":{\"gridcolor\":\"white\",\"linecolor\":\"white\",\"ticks\":\"\"},\"caxis\":{\"gridcolor\":\"white\",\"linecolor\":\"white\",\"ticks\":\"\"}},\"coloraxis\":{\"colorbar\":{\"outlinewidth\":0,\"ticks\":\"\"}},\"colorscale\":{\"sequential\":[[0.0,\"#0d0887\"],[0.1111111111111111,\"#46039f\"],[0.2222222222222222,\"#7201a8\"],[0.3333333333333333,\"#9c179e\"],[0.4444444444444444,\"#bd3786\"],[0.5555555555555556,\"#d8576b\"],[0.6666666666666666,\"#ed7953\"],[0.7777777777777778,\"#fb9f3a\"],[0.8888888888888888,\"#fdca26\"],[1.0,\"#f0f921\"]],\"sequentialminus\":[[0.0,\"#0d0887\"],[0.1111111111111111,\"#46039f\"],[0.2222222222222222,\"#7201a8\"],[0.3333333333333333,\"#9c179e\"],[0.4444444444444444,\"#bd3786\"],[0.5555555555555556,\"#d8576b\"],[0.6666666666666666,\"#ed7953\"],[0.7777777777777778,\"#fb9f3a\"],[0.8888888888888888,\"#fdca26\"],[1.0,\"#f0f921\"]],\"diverging\":[[0,\"#8e0152\"],[0.1,\"#c51b7d\"],[0.2,\"#de77ae\"],[0.3,\"#f1b6da\"],[0.4,\"#fde0ef\"],[0.5,\"#f7f7f7\"],[0.6,\"#e6f5d0\"],[0.7,\"#b8e186\"],[0.8,\"#7fbc41\"],[0.9,\"#4d9221\"],[1,\"#276419\"]]},\"xaxis\":{\"gridcolor\":\"white\",\"linecolor\":\"white\",\"ticks\":\"\",\"title\":{\"standoff\":15},\"zerolinecolor\":\"white\",\"automargin\":true,\"zerolinewidth\":2},\"yaxis\":{\"gridcolor\":\"white\",\"linecolor\":\"white\",\"ticks\":\"\",\"title\":{\"standoff\":15},\"zerolinecolor\":\"white\",\"automargin\":true,\"zerolinewidth\":2},\"scene\":{\"xaxis\":{\"backgroundcolor\":\"#E5ECF6\",\"gridcolor\":\"white\",\"linecolor\":\"white\",\"showbackground\":true,\"ticks\":\"\",\"zerolinecolor\":\"white\",\"gridwidth\":2},\"yaxis\":{\"backgroundcolor\":\"#E5ECF6\",\"gridcolor\":\"white\",\"linecolor\":\"white\",\"showbackground\":true,\"ticks\":\"\",\"zerolinecolor\":\"white\",\"gridwidth\":2},\"zaxis\":{\"backgroundcolor\":\"#E5ECF6\",\"gridcolor\":\"white\",\"linecolor\":\"white\",\"showbackground\":true,\"ticks\":\"\",\"zerolinecolor\":\"white\",\"gridwidth\":2}},\"shapedefaults\":{\"line\":{\"color\":\"#2a3f5f\"}},\"annotationdefaults\":{\"arrowcolor\":\"#2a3f5f\",\"arrowhead\":0,\"arrowwidth\":1},\"geo\":{\"bgcolor\":\"white\",\"landcolor\":\"#E5ECF6\",\"subunitcolor\":\"white\",\"showland\":true,\"showlakes\":true,\"lakecolor\":\"white\"},\"title\":{\"x\":0.05},\"mapbox\":{\"style\":\"light\"}}},\"xaxis\":{\"anchor\":\"y\",\"domain\":[0.0,1.0],\"title\":{\"text\":\"Employee\"}},\"yaxis\":{\"anchor\":\"x\",\"domain\":[0.0,1.0],\"title\":{\"text\":\"rank\"}},\"legend\":{\"tracegroupgap\":0},\"margin\":{\"t\":60},\"barmode\":\"relative\"},                        {\"responsive\": true}                    )                };                            </script>        </div>"
      ],
      "text/plain": [
       "Figure({\n",
       "    'data': [{'alignmentgroup': 'True',\n",
       "              'hovertemplate': 'Employee=%{x}<br>rank=%{y}<extra></extra>',\n",
       "              'legendgroup': '',\n",
       "              'marker': {'color': '#636efa', 'pattern': {'shape': ''}},\n",
       "              'name': '',\n",
       "              'offsetgroup': '',\n",
       "              'orientation': 'v',\n",
       "              'showlegend': False,\n",
       "              'textposition': 'auto',\n",
       "              'type': 'bar',\n",
       "              'x': array(['CEO', 'Production.mgr1', 'Sales.Dir', 'Sales.mgr1', 'Admin.Dir',\n",
       "                          'Sales.mgr3', 'Production.Dir', 'Sales.mgr2', 'Sales.1', 'Admin.4',\n",
       "                          'Admin.mgr1', 'Production.11', 'Sales.8', 'Production.7', 'Sales.9',\n",
       "                          'Sales.6', 'Production.14', 'Admin.1', 'Sales.3', 'Sales.4', 'Sales.2',\n",
       "                          'Sales.10', 'Production.mgr2', 'Admin.mgr3', 'Production.mgr3',\n",
       "                          'Sales.5', 'Sales.7', 'Admin.6', 'Production.10', 'Production.mgr4',\n",
       "                          'Admin.5', 'Production.1', 'Admin.mgr2', 'Production.3', 'Admin.2',\n",
       "                          'Admin.3', 'Production.9', 'Admin.8', 'Production.2', 'Production.4',\n",
       "                          'Production.12', 'Production.13', 'Production.5', 'Production.6',\n",
       "                          'Production.8', 'Admin.7'], dtype=object),\n",
       "              'xaxis': 'x',\n",
       "              'y': array([1.        , 0.5457697 , 0.51564115, 0.41146369, 0.36875463, 0.32481332,\n",
       "                          0.32345043, 0.30362213, 0.28372824, 0.23736835, 0.19602782, 0.18975999,\n",
       "                          0.14556711, 0.14234309, 0.12276417, 0.12046323, 0.11388848, 0.11366544,\n",
       "                          0.11341419, 0.11187892, 0.10321701, 0.10240735, 0.09882325, 0.09831539,\n",
       "                          0.09826167, 0.0966784 , 0.08949368, 0.08704002, 0.04938315, 0.04910161,\n",
       "                          0.04865225, 0.04692031, 0.04186455, 0.03877852, 0.03605007, 0.03273715,\n",
       "                          0.02148588, 0.01868671, 0.01853859, 0.01423452, 0.00371227, 0.00371227,\n",
       "                          0.00300813, 0.00300813, 0.00294561, 0.        ]),\n",
       "              'yaxis': 'y'}],\n",
       "    'layout': {'barmode': 'relative',\n",
       "               'legend': {'tracegroupgap': 0},\n",
       "               'margin': {'t': 60},\n",
       "               'template': '...',\n",
       "               'xaxis': {'anchor': 'y', 'domain': [0.0, 1.0], 'title': {'text': 'Employee'}},\n",
       "               'yaxis': {'anchor': 'x', 'domain': [0.0, 1.0], 'title': {'text': 'rank'}}}\n",
       "})"
      ]
     },
     "execution_count": 12,
     "metadata": {},
     "output_type": "execute_result"
    }
   ],
   "source": [
    "import plotly.express as px\n",
    "import numpy as np\n",
    "c = np.arange(0, 0xFFFFFF, 0xFFFFFF/46)\n",
    "px.bar(df_tot, x = \"Employee\", y=\"rank\")"
   ]
  },
  {
   "cell_type": "code",
   "execution_count": null,
   "metadata": {},
   "outputs": [
    {
     "data": {
      "text/html": [
       "<div>\n",
       "<style scoped>\n",
       "    .dataframe tbody tr th:only-of-type {\n",
       "        vertical-align: middle;\n",
       "    }\n",
       "\n",
       "    .dataframe tbody tr th {\n",
       "        vertical-align: top;\n",
       "    }\n",
       "\n",
       "    .dataframe thead th {\n",
       "        text-align: right;\n",
       "    }\n",
       "</style>\n",
       "<table border=\"1\" class=\"dataframe\">\n",
       "  <thead>\n",
       "    <tr style=\"text-align: right;\">\n",
       "      <th></th>\n",
       "      <th>Employee</th>\n",
       "      <th>betweennes</th>\n",
       "      <th>centrality_rank</th>\n",
       "      <th>rank</th>\n",
       "      <th>color</th>\n",
       "    </tr>\n",
       "  </thead>\n",
       "  <tbody>\n",
       "    <tr>\n",
       "      <th>0</th>\n",
       "      <td>CEO</td>\n",
       "      <td>1.000000</td>\n",
       "      <td>1.000000</td>\n",
       "      <td>1.000000</td>\n",
       "      <td>red</td>\n",
       "    </tr>\n",
       "    <tr>\n",
       "      <th>1</th>\n",
       "      <td>Production.mgr1</td>\n",
       "      <td>0.783388</td>\n",
       "      <td>0.308151</td>\n",
       "      <td>0.545770</td>\n",
       "      <td>#fc0b00</td>\n",
       "    </tr>\n",
       "    <tr>\n",
       "      <th>7</th>\n",
       "      <td>Sales.Dir</td>\n",
       "      <td>0.255296</td>\n",
       "      <td>0.775986</td>\n",
       "      <td>0.515641</td>\n",
       "      <td>#f91600</td>\n",
       "    </tr>\n",
       "    <tr>\n",
       "      <th>6</th>\n",
       "      <td>Sales.mgr1</td>\n",
       "      <td>0.290588</td>\n",
       "      <td>0.532339</td>\n",
       "      <td>0.411464</td>\n",
       "      <td>#f72100</td>\n",
       "    </tr>\n",
       "    <tr>\n",
       "      <th>3</th>\n",
       "      <td>Admin.Dir</td>\n",
       "      <td>0.342256</td>\n",
       "      <td>0.395253</td>\n",
       "      <td>0.368755</td>\n",
       "      <td>#f42b00</td>\n",
       "    </tr>\n",
       "  </tbody>\n",
       "</table>\n",
       "</div>"
      ],
      "text/plain": [
       "          Employee  betweennes  centrality_rank      rank    color\n",
       "0              CEO    1.000000         1.000000  1.000000      red\n",
       "1  Production.mgr1    0.783388         0.308151  0.545770  #fc0b00\n",
       "7        Sales.Dir    0.255296         0.775986  0.515641  #f91600\n",
       "6       Sales.mgr1    0.290588         0.532339  0.411464  #f72100\n",
       "3        Admin.Dir    0.342256         0.395253  0.368755  #f42b00"
      ]
     },
     "execution_count": 466,
     "metadata": {},
     "output_type": "execute_result"
    }
   ],
   "source": [
    "from colour import Color\n",
    "start = Color(\"red\")\n",
    "colors = list(start.range_to(Color(\"green\"),46))\n",
    "\n",
    "df_tot[\"color\"] =  colors\n",
    "df_tot.head()"
   ]
  },
  {
   "cell_type": "code",
   "execution_count": null,
   "metadata": {},
   "outputs": [],
   "source": [
    "true_color = []\n",
    "for i in colors:\n",
    "    true_color.append(str(i))\n",
    "\n",
    "df_tot[\"color\"] =  true_color"
   ]
  },
  {
   "cell_type": "code",
   "execution_count": 15,
   "metadata": {},
   "outputs": [
    {
     "name": "stdout",
     "output_type": "stream",
     "text": [
      "('Admin.mgr1', {'size': 10, 'colore': 'default'})\n",
      "('Admin.2', {'size': 10, 'colore': 'default'})\n",
      "('Sales.mgr3', {'size': 10, 'colore': 'default'})\n",
      "('Sales.8', {'size': 10, 'colore': 'default'})\n",
      "('Production.2', {'size': 10, 'colore': 'default'})\n",
      "('Production.3', {'size': 10, 'colore': 'default'})\n",
      "('Production.7', {'size': 10, 'colore': 'default'})\n",
      "('Sales.1', {'size': 10, 'colore': 'default'})\n",
      "('Sales.2', {'size': 10, 'colore': 'default'})\n",
      "('Admin.1', {'size': 10, 'colore': 'default'})\n",
      "('Admin.5', {'size': 10, 'colore': 'default'})\n",
      "('Sales.7', {'size': 10, 'colore': 'default'})\n",
      "('Sales.9', {'size': 10, 'colore': 'default'})\n",
      "('Production.Dir', {'size': 10, 'colore': 'default'})\n",
      "('Production.mgr3', {'size': 10, 'colore': 'default'})\n",
      "('Sales.3', {'size': 10, 'colore': 'default'})\n",
      "('Sales.mgr2', {'size': 10, 'colore': 'default'})\n",
      "('Sales.4', {'size': 10, 'colore': 'default'})\n",
      "('Sales.5', {'size': 10, 'colore': 'default'})\n",
      "('Sales.6', {'size': 10, 'colore': 'default'})\n",
      "('Sales.mgr1', {'size': 10, 'colore': 'default'})\n",
      "('Admin.Dir', {'size': 10, 'colore': 'default'})\n",
      "('Admin.mgr3', {'size': 10, 'colore': 'default'})\n",
      "('Sales.Dir', {'size': 10, 'colore': 'default'})\n",
      "('Production.mgr2', {'size': 10, 'colore': 'default'})\n",
      "('Production.5', {'size': 10, 'colore': 'default'})\n",
      "('CEO', {'size': 10, 'colore': 'default'})\n",
      "('Admin.3', {'size': 10, 'colore': 'default'})\n",
      "('Production.mgr4', {'size': 10, 'colore': 'default'})\n",
      "('Production.mgr1', {'size': 10, 'colore': 'default'})\n",
      "('Production.14', {'size': 10, 'colore': 'default'})\n",
      "('Admin.mgr2', {'size': 10, 'colore': 'default'})\n",
      "('Production.9', {'size': 10, 'colore': 'default'})\n",
      "('Production.6', {'size': 10, 'colore': 'default'})\n",
      "('Production.11', {'size': 10, 'colore': 'default'})\n",
      "('Production.12', {'size': 10, 'colore': 'default'})\n",
      "('Production.10', {'size': 10, 'colore': 'default'})\n",
      "('Production.4', {'size': 10, 'colore': 'default'})\n",
      "('Sales.10', {'size': 10, 'colore': 'default'})\n",
      "('Production.13', {'size': 10, 'colore': 'default'})\n",
      "('Admin.6', {'size': 10, 'colore': 'default'})\n",
      "('Production.1', {'size': 10, 'colore': 'default'})\n",
      "('Admin.4', {'size': 10, 'colore': 'default'})\n",
      "('Admin.8', {'size': 10, 'colore': 'default'})\n",
      "('Production.8', {'size': 10, 'colore': 'default'})\n",
      "('Admin.7', {'size': 10, 'colore': 'default'})\n"
     ]
    },
    {
     "name": "stderr",
     "output_type": "stream",
     "text": [
      "C:\\Users\\teuta\\AppData\\Local\\Temp\\ipykernel_16576\\21087983.py:14: FutureWarning:\n",
      "\n",
      "Calling float on a single element Series is deprecated and will raise a TypeError in the future. Use float(ser.iloc[0]) instead\n",
      "\n",
      "C:\\Users\\teuta\\AppData\\Local\\Temp\\ipykernel_16576\\21087983.py:12: FutureWarning:\n",
      "\n",
      "Calling float on a single element Series is deprecated and will raise a TypeError in the future. Use float(ser.iloc[0]) instead\n",
      "\n"
     ]
    },
    {
     "name": "stdout",
     "output_type": "stream",
     "text": [
      "example.html\n"
     ]
    }
   ],
   "source": [
    "num = 0\n",
    "for node in G.nodes(data=True):\n",
    "    size = (df_tot[df_tot[\"Employee\"]==node[0]][\"rank\"].iloc[0]*10)+5\n",
    "    G.add_node(node[0], size = 10, colore=\"default\")\n",
    "    num +=1\n",
    "for node in G.nodes(data=True):\n",
    "    print(node)\n",
    "\n",
    "\n",
    "for u, v in G.edges():\n",
    "    if data[(data[\"Person 1\"]==u)&(data[\"Person 2\"]==v)][\"weight\"].empty:\n",
    "        weight = float(data[(data[\"Person 2\"]==u)&(data[\"Person 1\"]==v)][\"weight\"])\n",
    "    else:\n",
    "        weight = float(data[(data[\"Person 1\"]==u)&(data[\"Person 2\"]==v)][\"weight\"])\n",
    "    G[u][v][\"color\"] = \"black\"\n",
    "\n",
    "net = Network(notebook=True, cdn_resources='remote', height=\"1000\")\n",
    "net.from_nx(G, show_edge_weights=False)\n",
    "net.show(\"example.html\");"
   ]
  },
  {
   "cell_type": "code",
   "execution_count": null,
   "metadata": {},
   "outputs": [],
   "source": []
  }
 ],
 "metadata": {
  "kernelspec": {
   "display_name": ".venv",
   "language": "python",
   "name": "python3"
  },
  "language_info": {
   "codemirror_mode": {
    "name": "ipython",
    "version": 3
   },
   "file_extension": ".py",
   "mimetype": "text/x-python",
   "name": "python",
   "nbconvert_exporter": "python",
   "pygments_lexer": "ipython3",
   "version": "3.11.5"
  },
  "orig_nbformat": 4
 },
 "nbformat": 4,
 "nbformat_minor": 2
}
